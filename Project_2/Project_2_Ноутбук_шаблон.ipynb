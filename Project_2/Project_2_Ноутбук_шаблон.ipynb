{
  "cells": [
    {
      "cell_type": "markdown",
      "id": "42289889-bd57-434e-9637-d3e354756316",
      "metadata": {
        "id": "42289889-bd57-434e-9637-d3e354756316"
      },
      "source": [
        "<center> <img src = https://raw.githubusercontent.com/AndreyRysistov/DatasetsForPandas/main/hh%20label.jpg alt=\"drawing\" style=\"width:400px;\">"
      ]
    },
    {
      "cell_type": "markdown",
      "id": "829cb75b-f14e-4ba8-9195-7ba929a7d656",
      "metadata": {
        "id": "829cb75b-f14e-4ba8-9195-7ba929a7d656",
        "tags": []
      },
      "source": [
        "# <center> Проект: Анализ вакансий из HeadHunter\n",
        "   "
      ]
    },
    {
      "cell_type": "code",
      "execution_count": 53,
      "id": "dccfde33-2452-43fb-a8a5-5c6ebc02a71d",
      "metadata": {
        "id": "dccfde33-2452-43fb-a8a5-5c6ebc02a71d"
      },
      "outputs": [],
      "source": [
        "import pandas as pd\n",
        "import psycopg2"
      ]
    },
    {
      "cell_type": "code",
      "execution_count": 106,
      "id": "5be0f0f5",
      "metadata": {},
      "outputs": [],
      "source": [
        "DBNAME = None\n",
        "USER = None\n",
        "PASSWORD = None\n",
        "HOST = None\n",
        "PORT = None"
      ]
    },
    {
      "cell_type": "code",
      "execution_count": 55,
      "id": "oVKH4ehvf8Ay",
      "metadata": {
        "id": "oVKH4ehvf8Ay"
      },
      "outputs": [],
      "source": [
        "connection = psycopg2.connect(\n",
        "    dbname=DBNAME,\n",
        "    user=USER,\n",
        "    host=HOST,\n",
        "    password=PASSWORD,\n",
        "    port=PORT\n",
        ")"
      ]
    },
    {
      "cell_type": "markdown",
      "id": "0dc6476b-7a00-44f1-ac93-6e3baed33a29",
      "metadata": {
        "id": "0dc6476b-7a00-44f1-ac93-6e3baed33a29"
      },
      "source": [
        "# Юнит 3. Предварительный анализ данных"
      ]
    },
    {
      "cell_type": "markdown",
      "id": "889782b6-8d1c-410e-8920-e57f27917c64",
      "metadata": {
        "id": "889782b6-8d1c-410e-8920-e57f27917c64"
      },
      "source": [
        "1. Напишите запрос, который посчитает количество вакансий в нашей базе (вакансии находятся в таблице vacancies). "
      ]
    },
    {
      "cell_type": "code",
      "execution_count": 56,
      "id": "bc39e68e-ed02-4ee2-9235-7258a2f867a8",
      "metadata": {
        "id": "bc39e68e-ed02-4ee2-9235-7258a2f867a8"
      },
      "outputs": [],
      "source": [
        "# сохраняем в переменую запрос\n",
        "# запрос через select\n",
        "# обращаемся к таблице с помщью from\n",
        "query_3_1 = f'''select count(name)\n",
        "            from vacancies\n",
        "            '''"
      ]
    },
    {
      "cell_type": "code",
      "execution_count": 57,
      "id": "9955eaa8",
      "metadata": {},
      "outputs": [
        {
          "name": "stderr",
          "output_type": "stream",
          "text": [
            "C:\\Users\\vivec\\AppData\\Local\\Temp\\ipykernel_10332\\1820195450.py:2: UserWarning: pandas only supports SQLAlchemy connectable (engine/connection) or database string URI or sqlite3 DBAPI2 connection. Other DBAPI2 objects are not tested. Please consider using SQLAlchemy.\n",
            "  df_3_1 = pd.read_sql_query(query_3_1, connection);\n"
          ]
        },
        {
          "data": {
            "text/html": [
              "<div>\n",
              "<style scoped>\n",
              "    .dataframe tbody tr th:only-of-type {\n",
              "        vertical-align: middle;\n",
              "    }\n",
              "\n",
              "    .dataframe tbody tr th {\n",
              "        vertical-align: top;\n",
              "    }\n",
              "\n",
              "    .dataframe thead th {\n",
              "        text-align: right;\n",
              "    }\n",
              "</style>\n",
              "<table border=\"1\" class=\"dataframe\">\n",
              "  <thead>\n",
              "    <tr style=\"text-align: right;\">\n",
              "      <th></th>\n",
              "      <th>count</th>\n",
              "    </tr>\n",
              "  </thead>\n",
              "  <tbody>\n",
              "    <tr>\n",
              "      <th>0</th>\n",
              "      <td>49197</td>\n",
              "    </tr>\n",
              "  </tbody>\n",
              "</table>\n",
              "</div>"
            ],
            "text/plain": [
              "   count\n",
              "0  49197"
            ]
          },
          "execution_count": 57,
          "metadata": {},
          "output_type": "execute_result"
        }
      ],
      "source": [
        "# переменной присваиваем запрос и выводим его\n",
        "df_3_1 = pd.read_sql_query(query_3_1, connection);\n",
        "df_3_1"
      ]
    },
    {
      "cell_type": "markdown",
      "id": "b583485d-1f9e-494e-ada4-80ffff7c53d6",
      "metadata": {
        "id": "b583485d-1f9e-494e-ada4-80ffff7c53d6"
      },
      "source": [
        "2. Напишите запрос, который посчитает количество работодателей (таблица employers). "
      ]
    },
    {
      "cell_type": "code",
      "execution_count": 58,
      "id": "5408c52c-3407-4a63-b25b-1aafa2322d28",
      "metadata": {
        "id": "5408c52c-3407-4a63-b25b-1aafa2322d28"
      },
      "outputs": [],
      "source": [
        "query_3_2 = f'''select count(name)\n",
        "                from employers\n",
        "                '''"
      ]
    },
    {
      "cell_type": "code",
      "execution_count": 59,
      "id": "jVL4eshKhdqc",
      "metadata": {
        "id": "jVL4eshKhdqc"
      },
      "outputs": [
        {
          "name": "stderr",
          "output_type": "stream",
          "text": [
            "C:\\Users\\vivec\\AppData\\Local\\Temp\\ipykernel_10332\\2467592708.py:1: UserWarning: pandas only supports SQLAlchemy connectable (engine/connection) or database string URI or sqlite3 DBAPI2 connection. Other DBAPI2 objects are not tested. Please consider using SQLAlchemy.\n",
            "  df_3_2 = pd.read_sql_query(query_3_2, connection);\n"
          ]
        },
        {
          "data": {
            "text/html": [
              "<div>\n",
              "<style scoped>\n",
              "    .dataframe tbody tr th:only-of-type {\n",
              "        vertical-align: middle;\n",
              "    }\n",
              "\n",
              "    .dataframe tbody tr th {\n",
              "        vertical-align: top;\n",
              "    }\n",
              "\n",
              "    .dataframe thead th {\n",
              "        text-align: right;\n",
              "    }\n",
              "</style>\n",
              "<table border=\"1\" class=\"dataframe\">\n",
              "  <thead>\n",
              "    <tr style=\"text-align: right;\">\n",
              "      <th></th>\n",
              "      <th>count</th>\n",
              "    </tr>\n",
              "  </thead>\n",
              "  <tbody>\n",
              "    <tr>\n",
              "      <th>0</th>\n",
              "      <td>23501</td>\n",
              "    </tr>\n",
              "  </tbody>\n",
              "</table>\n",
              "</div>"
            ],
            "text/plain": [
              "   count\n",
              "0  23501"
            ]
          },
          "execution_count": 59,
          "metadata": {},
          "output_type": "execute_result"
        }
      ],
      "source": [
        "df_3_2 = pd.read_sql_query(query_3_2, connection);\n",
        "df_3_2"
      ]
    },
    {
      "attachments": {},
      "cell_type": "markdown",
      "id": "a2bfff1f-c975-4bf6-84be-2185d79dcb76",
      "metadata": {
        "id": "a2bfff1f-c975-4bf6-84be-2185d79dcb76"
      },
      "source": [
        "3. Посчитайте с помощью запроса количество регионов (таблица areas)."
      ]
    },
    {
      "cell_type": "code",
      "execution_count": 60,
      "id": "1m8QJwBYhey6",
      "metadata": {
        "id": "1m8QJwBYhey6"
      },
      "outputs": [],
      "source": [
        "query_3_3 = f'''select count(name)\n",
        "                from areas\n",
        "                '''"
      ]
    },
    {
      "cell_type": "code",
      "execution_count": 61,
      "id": "EZsn9tlfhe7f",
      "metadata": {
        "id": "EZsn9tlfhe7f"
      },
      "outputs": [
        {
          "name": "stderr",
          "output_type": "stream",
          "text": [
            "C:\\Users\\vivec\\AppData\\Local\\Temp\\ipykernel_10332\\65068916.py:1: UserWarning: pandas only supports SQLAlchemy connectable (engine/connection) or database string URI or sqlite3 DBAPI2 connection. Other DBAPI2 objects are not tested. Please consider using SQLAlchemy.\n",
            "  df_3_3 = pd.read_sql_query(query_3_3, connection);\n"
          ]
        },
        {
          "data": {
            "text/html": [
              "<div>\n",
              "<style scoped>\n",
              "    .dataframe tbody tr th:only-of-type {\n",
              "        vertical-align: middle;\n",
              "    }\n",
              "\n",
              "    .dataframe tbody tr th {\n",
              "        vertical-align: top;\n",
              "    }\n",
              "\n",
              "    .dataframe thead th {\n",
              "        text-align: right;\n",
              "    }\n",
              "</style>\n",
              "<table border=\"1\" class=\"dataframe\">\n",
              "  <thead>\n",
              "    <tr style=\"text-align: right;\">\n",
              "      <th></th>\n",
              "      <th>count</th>\n",
              "    </tr>\n",
              "  </thead>\n",
              "  <tbody>\n",
              "    <tr>\n",
              "      <th>0</th>\n",
              "      <td>1362</td>\n",
              "    </tr>\n",
              "  </tbody>\n",
              "</table>\n",
              "</div>"
            ],
            "text/plain": [
              "   count\n",
              "0   1362"
            ]
          },
          "execution_count": 61,
          "metadata": {},
          "output_type": "execute_result"
        }
      ],
      "source": [
        "df_3_3 = pd.read_sql_query(query_3_3, connection);\n",
        "df_3_3"
      ]
    },
    {
      "cell_type": "markdown",
      "id": "41bb59f3-53cc-4a67-a5bc-bedf573955e4",
      "metadata": {
        "id": "41bb59f3-53cc-4a67-a5bc-bedf573955e4"
      },
      "source": [
        "4. Посчитате с помощью запроса количество сфер деятельности в базе (таблица industries)."
      ]
    },
    {
      "cell_type": "code",
      "execution_count": 62,
      "id": "d286cf4c-707b-4cd2-9190-7ab3587d04a1",
      "metadata": {
        "id": "d286cf4c-707b-4cd2-9190-7ab3587d04a1"
      },
      "outputs": [],
      "source": [
        "query_3_4 = f'''select count(name)\n",
        "                from industries\n",
        "                '''"
      ]
    },
    {
      "cell_type": "code",
      "execution_count": 63,
      "id": "JYAaoZ4qhfzW",
      "metadata": {
        "id": "JYAaoZ4qhfzW"
      },
      "outputs": [
        {
          "name": "stderr",
          "output_type": "stream",
          "text": [
            "C:\\Users\\vivec\\AppData\\Local\\Temp\\ipykernel_10332\\1084753995.py:1: UserWarning: pandas only supports SQLAlchemy connectable (engine/connection) or database string URI or sqlite3 DBAPI2 connection. Other DBAPI2 objects are not tested. Please consider using SQLAlchemy.\n",
            "  df_3_4 = pd.read_sql_query(query_3_4, connection);\n"
          ]
        },
        {
          "data": {
            "text/html": [
              "<div>\n",
              "<style scoped>\n",
              "    .dataframe tbody tr th:only-of-type {\n",
              "        vertical-align: middle;\n",
              "    }\n",
              "\n",
              "    .dataframe tbody tr th {\n",
              "        vertical-align: top;\n",
              "    }\n",
              "\n",
              "    .dataframe thead th {\n",
              "        text-align: right;\n",
              "    }\n",
              "</style>\n",
              "<table border=\"1\" class=\"dataframe\">\n",
              "  <thead>\n",
              "    <tr style=\"text-align: right;\">\n",
              "      <th></th>\n",
              "      <th>count</th>\n",
              "    </tr>\n",
              "  </thead>\n",
              "  <tbody>\n",
              "    <tr>\n",
              "      <th>0</th>\n",
              "      <td>294</td>\n",
              "    </tr>\n",
              "  </tbody>\n",
              "</table>\n",
              "</div>"
            ],
            "text/plain": [
              "   count\n",
              "0    294"
            ]
          },
          "execution_count": 63,
          "metadata": {},
          "output_type": "execute_result"
        }
      ],
      "source": [
        "df_3_4 = pd.read_sql_query(query_3_4, connection);\n",
        "df_3_4"
      ]
    },
    {
      "cell_type": "markdown",
      "id": "9a8a2181-6914-448b-85f1-38f5f18b8a93",
      "metadata": {
        "id": "9a8a2181-6914-448b-85f1-38f5f18b8a93"
      },
      "source": [
        "***"
      ]
    },
    {
      "attachments": {},
      "cell_type": "markdown",
      "id": "11d9d9cf",
      "metadata": {},
      "source": [
        "### 1. Получили общее количество вакансий представленных в таблице (49197)\n",
        "### 2. Получили количество работадателей (23501)\n",
        "### 3. Получили количество регионов (1362)\n",
        "### 4. Получили количество сфер деятельностей в базе (294)\n"
      ]
    },
    {
      "cell_type": "markdown",
      "id": "8d62a9f3-f64e-4fe7-bdac-c4dffa16155e",
      "metadata": {
        "id": "8d62a9f3-f64e-4fe7-bdac-c4dffa16155e"
      },
      "source": [
        "# Юнит 4. Детальный анализ вакансий"
      ]
    },
    {
      "cell_type": "markdown",
      "id": "93053d3d-b284-481a-9cf7-012d7014c0e0",
      "metadata": {
        "id": "93053d3d-b284-481a-9cf7-012d7014c0e0"
      },
      "source": [
        "1. Напишите запрос, который позволит узнать, сколько (cnt) вакансий в каждом регионе (area).\n",
        "Отсортируйте по количеству вакансий в порядке убывания."
      ]
    },
    {
      "cell_type": "code",
      "execution_count": 64,
      "id": "3f069da6-fdc9-4ae7-b514-fafe2675efd3",
      "metadata": {
        "id": "3f069da6-fdc9-4ae7-b514-fafe2675efd3"
      },
      "outputs": [],
      "source": [
        "# соединяем таблицы по уникальным значениям id с помощью join \n",
        "# делаем группировку по региону с помощью group by\n",
        "# сортируем запрос по количеству в порядке убывания вакансий с помощью order by\n",
        "# задайм лимит с помощью limit \n",
        "query_4_1 = f'''select \n",
        "                    a.name as area,\n",
        "                    count(v.id) as cnt\n",
        "                from areas as a\n",
        "                    join vacancies as v on a.id = v.area_id\n",
        "                group by area\n",
        "                order by cnt desc\n",
        "                limit 5\n",
        "                '''"
      ]
    },
    {
      "cell_type": "code",
      "execution_count": 65,
      "id": "P7QL86hrjhRJ",
      "metadata": {
        "id": "P7QL86hrjhRJ"
      },
      "outputs": [
        {
          "name": "stderr",
          "output_type": "stream",
          "text": [
            "C:\\Users\\vivec\\AppData\\Local\\Temp\\ipykernel_10332\\2632720463.py:1: UserWarning: pandas only supports SQLAlchemy connectable (engine/connection) or database string URI or sqlite3 DBAPI2 connection. Other DBAPI2 objects are not tested. Please consider using SQLAlchemy.\n",
            "  df_4_1 = pd.read_sql_query(query_4_1, connection);\n"
          ]
        },
        {
          "data": {
            "text/html": [
              "<div>\n",
              "<style scoped>\n",
              "    .dataframe tbody tr th:only-of-type {\n",
              "        vertical-align: middle;\n",
              "    }\n",
              "\n",
              "    .dataframe tbody tr th {\n",
              "        vertical-align: top;\n",
              "    }\n",
              "\n",
              "    .dataframe thead th {\n",
              "        text-align: right;\n",
              "    }\n",
              "</style>\n",
              "<table border=\"1\" class=\"dataframe\">\n",
              "  <thead>\n",
              "    <tr style=\"text-align: right;\">\n",
              "      <th></th>\n",
              "      <th>area</th>\n",
              "      <th>cnt</th>\n",
              "    </tr>\n",
              "  </thead>\n",
              "  <tbody>\n",
              "    <tr>\n",
              "      <th>0</th>\n",
              "      <td>Москва</td>\n",
              "      <td>5333</td>\n",
              "    </tr>\n",
              "    <tr>\n",
              "      <th>1</th>\n",
              "      <td>Санкт-Петербург</td>\n",
              "      <td>2851</td>\n",
              "    </tr>\n",
              "    <tr>\n",
              "      <th>2</th>\n",
              "      <td>Минск</td>\n",
              "      <td>2112</td>\n",
              "    </tr>\n",
              "    <tr>\n",
              "      <th>3</th>\n",
              "      <td>Новосибирск</td>\n",
              "      <td>2006</td>\n",
              "    </tr>\n",
              "    <tr>\n",
              "      <th>4</th>\n",
              "      <td>Алматы</td>\n",
              "      <td>1892</td>\n",
              "    </tr>\n",
              "  </tbody>\n",
              "</table>\n",
              "</div>"
            ],
            "text/plain": [
              "              area   cnt\n",
              "0           Москва  5333\n",
              "1  Санкт-Петербург  2851\n",
              "2            Минск  2112\n",
              "3      Новосибирск  2006\n",
              "4           Алматы  1892"
            ]
          },
          "execution_count": 65,
          "metadata": {},
          "output_type": "execute_result"
        }
      ],
      "source": [
        "df_4_1 = pd.read_sql_query(query_4_1, connection);\n",
        "df_4_1"
      ]
    },
    {
      "cell_type": "markdown",
      "id": "4266f0b6-1646-492a-88b4-2f6a46502135",
      "metadata": {
        "id": "4266f0b6-1646-492a-88b4-2f6a46502135"
      },
      "source": [
        "2. Напишите запрос, чтобы определить у какого количества вакансий заполнено хотя бы одно из двух полей с зарплатой."
      ]
    },
    {
      "cell_type": "code",
      "execution_count": 66,
      "id": "0c44b350-72eb-4d65-8b54-a1fc449ba9fd",
      "metadata": {
        "id": "0c44b350-72eb-4d65-8b54-a1fc449ba9fd"
      },
      "outputs": [],
      "source": [
        "# задаём условия по зарплате с помощью where\n",
        "query_4_2 = f'''select \n",
        "                    count(v.id) as cnt\n",
        "                from vacancies as v\n",
        "                where v.salary_from is not null \n",
        "                    or v.salary_to is not null\n",
        "                '''"
      ]
    },
    {
      "cell_type": "code",
      "execution_count": 67,
      "id": "rhvwaMDkoWTi",
      "metadata": {
        "id": "rhvwaMDkoWTi"
      },
      "outputs": [
        {
          "name": "stderr",
          "output_type": "stream",
          "text": [
            "C:\\Users\\vivec\\AppData\\Local\\Temp\\ipykernel_10332\\3369437776.py:1: UserWarning: pandas only supports SQLAlchemy connectable (engine/connection) or database string URI or sqlite3 DBAPI2 connection. Other DBAPI2 objects are not tested. Please consider using SQLAlchemy.\n",
            "  df_4_2 = pd.read_sql_query(query_4_2, connection);\n"
          ]
        },
        {
          "data": {
            "text/html": [
              "<div>\n",
              "<style scoped>\n",
              "    .dataframe tbody tr th:only-of-type {\n",
              "        vertical-align: middle;\n",
              "    }\n",
              "\n",
              "    .dataframe tbody tr th {\n",
              "        vertical-align: top;\n",
              "    }\n",
              "\n",
              "    .dataframe thead th {\n",
              "        text-align: right;\n",
              "    }\n",
              "</style>\n",
              "<table border=\"1\" class=\"dataframe\">\n",
              "  <thead>\n",
              "    <tr style=\"text-align: right;\">\n",
              "      <th></th>\n",
              "      <th>cnt</th>\n",
              "    </tr>\n",
              "  </thead>\n",
              "  <tbody>\n",
              "    <tr>\n",
              "      <th>0</th>\n",
              "      <td>24073</td>\n",
              "    </tr>\n",
              "  </tbody>\n",
              "</table>\n",
              "</div>"
            ],
            "text/plain": [
              "     cnt\n",
              "0  24073"
            ]
          },
          "execution_count": 67,
          "metadata": {},
          "output_type": "execute_result"
        }
      ],
      "source": [
        "df_4_2 = pd.read_sql_query(query_4_2, connection);\n",
        "df_4_2"
      ]
    },
    {
      "cell_type": "markdown",
      "id": "635c4d5d-f323-4c66-b428-50a088120aa0",
      "metadata": {
        "id": "635c4d5d-f323-4c66-b428-50a088120aa0"
      },
      "source": [
        "3. Найдите средние значения для нижней и верхней границы зарплатной вилки. Округлите значения до целого."
      ]
    },
    {
      "cell_type": "code",
      "execution_count": 68,
      "id": "603cdbe4-0ec3-4106-8eaf-c73fcdd29165",
      "metadata": {
        "id": "603cdbe4-0ec3-4106-8eaf-c73fcdd29165"
      },
      "outputs": [],
      "source": [
        "# получаем среднее значение порогов ЗП и округляем его\n",
        "query_4_3 = f'''select \n",
        "                    round(avg(v.salary_from)) as asf,\n",
        "                    round(avg(v.salary_to)) as ast\n",
        "                from vacancies as v\n",
        "                '''"
      ]
    },
    {
      "cell_type": "code",
      "execution_count": 69,
      "id": "pswpAb66ovZZ",
      "metadata": {
        "id": "pswpAb66ovZZ"
      },
      "outputs": [
        {
          "name": "stderr",
          "output_type": "stream",
          "text": [
            "C:\\Users\\vivec\\AppData\\Local\\Temp\\ipykernel_10332\\1578565216.py:1: UserWarning: pandas only supports SQLAlchemy connectable (engine/connection) or database string URI or sqlite3 DBAPI2 connection. Other DBAPI2 objects are not tested. Please consider using SQLAlchemy.\n",
            "  df_4_3 = pd.read_sql_query(query_4_3, connection);\n"
          ]
        },
        {
          "data": {
            "text/html": [
              "<div>\n",
              "<style scoped>\n",
              "    .dataframe tbody tr th:only-of-type {\n",
              "        vertical-align: middle;\n",
              "    }\n",
              "\n",
              "    .dataframe tbody tr th {\n",
              "        vertical-align: top;\n",
              "    }\n",
              "\n",
              "    .dataframe thead th {\n",
              "        text-align: right;\n",
              "    }\n",
              "</style>\n",
              "<table border=\"1\" class=\"dataframe\">\n",
              "  <thead>\n",
              "    <tr style=\"text-align: right;\">\n",
              "      <th></th>\n",
              "      <th>asf</th>\n",
              "      <th>ast</th>\n",
              "    </tr>\n",
              "  </thead>\n",
              "  <tbody>\n",
              "    <tr>\n",
              "      <th>0</th>\n",
              "      <td>71065.0</td>\n",
              "      <td>110537.0</td>\n",
              "    </tr>\n",
              "  </tbody>\n",
              "</table>\n",
              "</div>"
            ],
            "text/plain": [
              "       asf       ast\n",
              "0  71065.0  110537.0"
            ]
          },
          "execution_count": 69,
          "metadata": {},
          "output_type": "execute_result"
        }
      ],
      "source": [
        "df_4_3 = pd.read_sql_query(query_4_3, connection);\n",
        "round(df_4_3)"
      ]
    },
    {
      "cell_type": "markdown",
      "id": "f3fdaec9-5fd3-4260-9cf5-1d7406b628a5",
      "metadata": {
        "id": "f3fdaec9-5fd3-4260-9cf5-1d7406b628a5"
      },
      "source": [
        "4. Напишите запрос, который выведет количество вакансий для каждого сочетания типа рабочего графика (schedule) и типа трудоустройства (employment), используемого в вакансиях. Результат отсортируйте по убыванию количества.\n"
      ]
    },
    {
      "cell_type": "code",
      "execution_count": 70,
      "id": "1ea710ec-871b-431e-9462-c7d0fd87011b",
      "metadata": {
        "id": "1ea710ec-871b-431e-9462-c7d0fd87011b"
      },
      "outputs": [],
      "source": [
        "query_4_4 = f'''select\n",
        "                    v.schedule,\n",
        "                    v.employment,\n",
        "                    count(*)\n",
        "                from vacancies as v\n",
        "                group by v.schedule, v.employment\n",
        "                order by 3 desc\n",
        "                '''"
      ]
    },
    {
      "cell_type": "code",
      "execution_count": 71,
      "id": "lGUVqavdo4JQ",
      "metadata": {
        "id": "lGUVqavdo4JQ"
      },
      "outputs": [
        {
          "name": "stderr",
          "output_type": "stream",
          "text": [
            "C:\\Users\\vivec\\AppData\\Local\\Temp\\ipykernel_10332\\1830085806.py:1: UserWarning: pandas only supports SQLAlchemy connectable (engine/connection) or database string URI or sqlite3 DBAPI2 connection. Other DBAPI2 objects are not tested. Please consider using SQLAlchemy.\n",
            "  df_4_4 = pd.read_sql_query(query_4_4, connection);\n"
          ]
        },
        {
          "data": {
            "text/html": [
              "<div>\n",
              "<style scoped>\n",
              "    .dataframe tbody tr th:only-of-type {\n",
              "        vertical-align: middle;\n",
              "    }\n",
              "\n",
              "    .dataframe tbody tr th {\n",
              "        vertical-align: top;\n",
              "    }\n",
              "\n",
              "    .dataframe thead th {\n",
              "        text-align: right;\n",
              "    }\n",
              "</style>\n",
              "<table border=\"1\" class=\"dataframe\">\n",
              "  <thead>\n",
              "    <tr style=\"text-align: right;\">\n",
              "      <th></th>\n",
              "      <th>schedule</th>\n",
              "      <th>employment</th>\n",
              "      <th>count</th>\n",
              "    </tr>\n",
              "  </thead>\n",
              "  <tbody>\n",
              "    <tr>\n",
              "      <th>0</th>\n",
              "      <td>Полный день</td>\n",
              "      <td>Полная занятость</td>\n",
              "      <td>35367</td>\n",
              "    </tr>\n",
              "    <tr>\n",
              "      <th>1</th>\n",
              "      <td>Удаленная работа</td>\n",
              "      <td>Полная занятость</td>\n",
              "      <td>7802</td>\n",
              "    </tr>\n",
              "    <tr>\n",
              "      <th>2</th>\n",
              "      <td>Гибкий график</td>\n",
              "      <td>Полная занятость</td>\n",
              "      <td>1593</td>\n",
              "    </tr>\n",
              "    <tr>\n",
              "      <th>3</th>\n",
              "      <td>Удаленная работа</td>\n",
              "      <td>Частичная занятость</td>\n",
              "      <td>1312</td>\n",
              "    </tr>\n",
              "    <tr>\n",
              "      <th>4</th>\n",
              "      <td>Сменный график</td>\n",
              "      <td>Полная занятость</td>\n",
              "      <td>940</td>\n",
              "    </tr>\n",
              "    <tr>\n",
              "      <th>5</th>\n",
              "      <td>Полный день</td>\n",
              "      <td>Стажировка</td>\n",
              "      <td>569</td>\n",
              "    </tr>\n",
              "    <tr>\n",
              "      <th>6</th>\n",
              "      <td>Вахтовый метод</td>\n",
              "      <td>Полная занятость</td>\n",
              "      <td>367</td>\n",
              "    </tr>\n",
              "    <tr>\n",
              "      <th>7</th>\n",
              "      <td>Полный день</td>\n",
              "      <td>Частичная занятость</td>\n",
              "      <td>347</td>\n",
              "    </tr>\n",
              "    <tr>\n",
              "      <th>8</th>\n",
              "      <td>Гибкий график</td>\n",
              "      <td>Частичная занятость</td>\n",
              "      <td>312</td>\n",
              "    </tr>\n",
              "    <tr>\n",
              "      <th>9</th>\n",
              "      <td>Полный день</td>\n",
              "      <td>Проектная работа</td>\n",
              "      <td>141</td>\n",
              "    </tr>\n",
              "    <tr>\n",
              "      <th>10</th>\n",
              "      <td>Удаленная работа</td>\n",
              "      <td>Проектная работа</td>\n",
              "      <td>133</td>\n",
              "    </tr>\n",
              "    <tr>\n",
              "      <th>11</th>\n",
              "      <td>Гибкий график</td>\n",
              "      <td>Стажировка</td>\n",
              "      <td>116</td>\n",
              "    </tr>\n",
              "    <tr>\n",
              "      <th>12</th>\n",
              "      <td>Сменный график</td>\n",
              "      <td>Частичная занятость</td>\n",
              "      <td>101</td>\n",
              "    </tr>\n",
              "    <tr>\n",
              "      <th>13</th>\n",
              "      <td>Удаленная работа</td>\n",
              "      <td>Стажировка</td>\n",
              "      <td>64</td>\n",
              "    </tr>\n",
              "    <tr>\n",
              "      <th>14</th>\n",
              "      <td>Гибкий график</td>\n",
              "      <td>Проектная работа</td>\n",
              "      <td>18</td>\n",
              "    </tr>\n",
              "    <tr>\n",
              "      <th>15</th>\n",
              "      <td>Сменный график</td>\n",
              "      <td>Стажировка</td>\n",
              "      <td>12</td>\n",
              "    </tr>\n",
              "    <tr>\n",
              "      <th>16</th>\n",
              "      <td>Вахтовый метод</td>\n",
              "      <td>Проектная работа</td>\n",
              "      <td>2</td>\n",
              "    </tr>\n",
              "    <tr>\n",
              "      <th>17</th>\n",
              "      <td>Сменный график</td>\n",
              "      <td>Проектная работа</td>\n",
              "      <td>1</td>\n",
              "    </tr>\n",
              "  </tbody>\n",
              "</table>\n",
              "</div>"
            ],
            "text/plain": [
              "            schedule           employment  count\n",
              "0        Полный день     Полная занятость  35367\n",
              "1   Удаленная работа     Полная занятость   7802\n",
              "2      Гибкий график     Полная занятость   1593\n",
              "3   Удаленная работа  Частичная занятость   1312\n",
              "4     Сменный график     Полная занятость    940\n",
              "5        Полный день           Стажировка    569\n",
              "6     Вахтовый метод     Полная занятость    367\n",
              "7        Полный день  Частичная занятость    347\n",
              "8      Гибкий график  Частичная занятость    312\n",
              "9        Полный день     Проектная работа    141\n",
              "10  Удаленная работа     Проектная работа    133\n",
              "11     Гибкий график           Стажировка    116\n",
              "12    Сменный график  Частичная занятость    101\n",
              "13  Удаленная работа           Стажировка     64\n",
              "14     Гибкий график     Проектная работа     18\n",
              "15    Сменный график           Стажировка     12\n",
              "16    Вахтовый метод     Проектная работа      2\n",
              "17    Сменный график     Проектная работа      1"
            ]
          },
          "execution_count": 71,
          "metadata": {},
          "output_type": "execute_result"
        }
      ],
      "source": [
        "df_4_4 = pd.read_sql_query(query_4_4, connection);\n",
        "df_4_4"
      ]
    },
    {
      "cell_type": "markdown",
      "id": "0136ffee-0ead-4a6b-b608-61d1c753a438",
      "metadata": {
        "id": "0136ffee-0ead-4a6b-b608-61d1c753a438"
      },
      "source": [
        "5. Напишите запрос, выводящий значения поля Требуемый опыт работы (experience) в порядке возрастания количества вакансий, в которых указан данный вариант опыта. "
      ]
    },
    {
      "cell_type": "code",
      "execution_count": 72,
      "id": "5b3a8e79-f7ab-4008-b767-12aea3a205ea",
      "metadata": {
        "id": "5b3a8e79-f7ab-4008-b767-12aea3a205ea"
      },
      "outputs": [],
      "source": [
        "query_4_5 = f'''select\n",
        "                    v.experience,\n",
        "                    count(v.id)\n",
        "                from vacancies as v\n",
        "                group by v.experience\n",
        "                having v.experience is not null\n",
        "                order by 2\n",
        "                '''"
      ]
    },
    {
      "cell_type": "code",
      "execution_count": 73,
      "id": "3Is64Y-hpDpq",
      "metadata": {
        "id": "3Is64Y-hpDpq"
      },
      "outputs": [
        {
          "name": "stderr",
          "output_type": "stream",
          "text": [
            "C:\\Users\\vivec\\AppData\\Local\\Temp\\ipykernel_10332\\1727186623.py:1: UserWarning: pandas only supports SQLAlchemy connectable (engine/connection) or database string URI or sqlite3 DBAPI2 connection. Other DBAPI2 objects are not tested. Please consider using SQLAlchemy.\n",
            "  df_4_5 = pd.read_sql_query(query_4_5, connection);\n"
          ]
        },
        {
          "data": {
            "text/html": [
              "<div>\n",
              "<style scoped>\n",
              "    .dataframe tbody tr th:only-of-type {\n",
              "        vertical-align: middle;\n",
              "    }\n",
              "\n",
              "    .dataframe tbody tr th {\n",
              "        vertical-align: top;\n",
              "    }\n",
              "\n",
              "    .dataframe thead th {\n",
              "        text-align: right;\n",
              "    }\n",
              "</style>\n",
              "<table border=\"1\" class=\"dataframe\">\n",
              "  <thead>\n",
              "    <tr style=\"text-align: right;\">\n",
              "      <th></th>\n",
              "      <th>experience</th>\n",
              "      <th>count</th>\n",
              "    </tr>\n",
              "  </thead>\n",
              "  <tbody>\n",
              "    <tr>\n",
              "      <th>0</th>\n",
              "      <td>Более 6 лет</td>\n",
              "      <td>1337</td>\n",
              "    </tr>\n",
              "    <tr>\n",
              "      <th>1</th>\n",
              "      <td>Нет опыта</td>\n",
              "      <td>7197</td>\n",
              "    </tr>\n",
              "    <tr>\n",
              "      <th>2</th>\n",
              "      <td>От 3 до 6 лет</td>\n",
              "      <td>14511</td>\n",
              "    </tr>\n",
              "    <tr>\n",
              "      <th>3</th>\n",
              "      <td>От 1 года до 3 лет</td>\n",
              "      <td>26152</td>\n",
              "    </tr>\n",
              "  </tbody>\n",
              "</table>\n",
              "</div>"
            ],
            "text/plain": [
              "           experience  count\n",
              "0         Более 6 лет   1337\n",
              "1           Нет опыта   7197\n",
              "2       От 3 до 6 лет  14511\n",
              "3  От 1 года до 3 лет  26152"
            ]
          },
          "execution_count": 73,
          "metadata": {},
          "output_type": "execute_result"
        }
      ],
      "source": [
        "df_4_5 = pd.read_sql_query(query_4_5, connection);\n",
        "df_4_5"
      ]
    },
    {
      "cell_type": "markdown",
      "id": "oq2b7n1QpIka",
      "metadata": {
        "id": "oq2b7n1QpIka"
      },
      "source": [
        "***"
      ]
    },
    {
      "attachments": {},
      "cell_type": "markdown",
      "id": "b6fca469",
      "metadata": {},
      "source": [
        "### 1. Мы узнали в каких городах больше всего вакансий (Москва, Санкт-Петербург и Минск)\n",
        "### 2. Выяснили, что у 24073 вакансии указан хотя бы один порог ЗП.\n",
        "### 3. Узнали среднее значение по минимальной и макимальной вилке ЗП.\n",
        "### 4. Составили таблицу с данными по количетсву вакансий в сочетании график работы/ тип занятости (больше всего вакансий Полный день/ Полная занятость)\n",
        "### 5. Получили данные с требованием к опыту работы и количеству вакансий, большая часть вакансий с требованием от 1 до 3 лет, меньшая часть более 6 лет опыта работы.\n",
        "#### По этим данным видно, что большое количество вакансий в столицах Росии и Беларусси, почти у половни вакансий указан порог ЗП, большая часть вакансий приходится на полный день/ полная занятость, более 50% вакансий требуют опыт работы от 1 до 3 лет, но так же имеется и много вакансий без Опыта работы, значит работадатели готовы принимать специалистов, которые только отучились или ещё учатся."
      ]
    },
    {
      "cell_type": "markdown",
      "id": "7ea20ab6-04a7-40a0-adec-443a0e5a42c3",
      "metadata": {
        "id": "7ea20ab6-04a7-40a0-adec-443a0e5a42c3"
      },
      "source": [
        "# Юнит 5. Анализ работодателей"
      ]
    },
    {
      "cell_type": "markdown",
      "id": "968aed80-74ef-4ffb-b5bf-c65b84e9caea",
      "metadata": {
        "id": "968aed80-74ef-4ffb-b5bf-c65b84e9caea"
      },
      "source": [
        "1. Напишите запрос, который позволит узнать, какие работодатели находятся на первом и пятом месте по количеству вакансий."
      ]
    },
    {
      "cell_type": "code",
      "execution_count": 74,
      "id": "f2d62796-d400-4ec1-a675-88112739a50e",
      "metadata": {
        "id": "f2d62796-d400-4ec1-a675-88112739a50e"
      },
      "outputs": [],
      "source": [
        "query_5_1 = f'''select\n",
        "                    e.name,\n",
        "                    count(v.id)\n",
        "                from employers as e\n",
        "                    join vacancies as v on v.employer_id = e.id\n",
        "                group by e.name\n",
        "                order by 2 desc\n",
        "                limit 5\n",
        "                '''"
      ]
    },
    {
      "cell_type": "code",
      "execution_count": 75,
      "id": "64tOMkAxqkQk",
      "metadata": {
        "id": "64tOMkAxqkQk"
      },
      "outputs": [
        {
          "name": "stderr",
          "output_type": "stream",
          "text": [
            "C:\\Users\\vivec\\AppData\\Local\\Temp\\ipykernel_10332\\3591465723.py:1: UserWarning: pandas only supports SQLAlchemy connectable (engine/connection) or database string URI or sqlite3 DBAPI2 connection. Other DBAPI2 objects are not tested. Please consider using SQLAlchemy.\n",
            "  df_5_1 = pd.read_sql_query(query_5_1, connection);\n"
          ]
        },
        {
          "data": {
            "text/html": [
              "<div>\n",
              "<style scoped>\n",
              "    .dataframe tbody tr th:only-of-type {\n",
              "        vertical-align: middle;\n",
              "    }\n",
              "\n",
              "    .dataframe tbody tr th {\n",
              "        vertical-align: top;\n",
              "    }\n",
              "\n",
              "    .dataframe thead th {\n",
              "        text-align: right;\n",
              "    }\n",
              "</style>\n",
              "<table border=\"1\" class=\"dataframe\">\n",
              "  <thead>\n",
              "    <tr style=\"text-align: right;\">\n",
              "      <th></th>\n",
              "      <th>name</th>\n",
              "      <th>count</th>\n",
              "    </tr>\n",
              "  </thead>\n",
              "  <tbody>\n",
              "    <tr>\n",
              "      <th>0</th>\n",
              "      <td>Яндекс</td>\n",
              "      <td>1933</td>\n",
              "    </tr>\n",
              "    <tr>\n",
              "      <th>1</th>\n",
              "      <td>Ростелеком</td>\n",
              "      <td>491</td>\n",
              "    </tr>\n",
              "    <tr>\n",
              "      <th>2</th>\n",
              "      <td>Тинькофф</td>\n",
              "      <td>444</td>\n",
              "    </tr>\n",
              "    <tr>\n",
              "      <th>3</th>\n",
              "      <td>СБЕР</td>\n",
              "      <td>428</td>\n",
              "    </tr>\n",
              "    <tr>\n",
              "      <th>4</th>\n",
              "      <td>Газпром нефть</td>\n",
              "      <td>331</td>\n",
              "    </tr>\n",
              "  </tbody>\n",
              "</table>\n",
              "</div>"
            ],
            "text/plain": [
              "            name  count\n",
              "0         Яндекс   1933\n",
              "1     Ростелеком    491\n",
              "2       Тинькофф    444\n",
              "3           СБЕР    428\n",
              "4  Газпром нефть    331"
            ]
          },
          "execution_count": 75,
          "metadata": {},
          "output_type": "execute_result"
        }
      ],
      "source": [
        "df_5_1 = pd.read_sql_query(query_5_1, connection);\n",
        "df_5_1"
      ]
    },
    {
      "cell_type": "markdown",
      "id": "68377cfc-b378-43dc-ab7d-1195abf2c515",
      "metadata": {
        "id": "68377cfc-b378-43dc-ab7d-1195abf2c515"
      },
      "source": [
        "2. Напишите запрос, который для каждого региона выведет количество работодателей и вакансий в нём.\n",
        "Среди регионов, в которых нет вакансий, найдите тот, в котором наибольшее количество работодателей.\n"
      ]
    },
    {
      "cell_type": "code",
      "execution_count": 76,
      "id": "dd7df27a-e3e8-412e-a21a-5d389b71e891",
      "metadata": {
        "id": "dd7df27a-e3e8-412e-a21a-5d389b71e891"
      },
      "outputs": [],
      "source": [
        "# после группировки задаём условия с помощью having\n",
        "query_5_2 = f'''select \n",
        "                    a.name as reg_name,\n",
        "                    count(e.id) as cnt_employer,\n",
        "                    count(v.id) as cnt_vacancies\n",
        "                from areas as a\n",
        "                    full join vacancies as v on v.area_id = a.id\n",
        "                    full join employers as e on e.area = a.id\n",
        "                group by 1\n",
        "                having count(v.id) = 0\n",
        "                order by 2 desc\n",
        "                '''"
      ]
    },
    {
      "cell_type": "code",
      "execution_count": 77,
      "id": "x1ikWbydrbf6",
      "metadata": {
        "id": "x1ikWbydrbf6"
      },
      "outputs": [
        {
          "name": "stderr",
          "output_type": "stream",
          "text": [
            "C:\\Users\\vivec\\AppData\\Local\\Temp\\ipykernel_10332\\3464236946.py:1: UserWarning: pandas only supports SQLAlchemy connectable (engine/connection) or database string URI or sqlite3 DBAPI2 connection. Other DBAPI2 objects are not tested. Please consider using SQLAlchemy.\n",
            "  df_5_2 = pd.read_sql_query(query_5_2, connection);\n"
          ]
        },
        {
          "data": {
            "text/html": [
              "<div>\n",
              "<style scoped>\n",
              "    .dataframe tbody tr th:only-of-type {\n",
              "        vertical-align: middle;\n",
              "    }\n",
              "\n",
              "    .dataframe tbody tr th {\n",
              "        vertical-align: top;\n",
              "    }\n",
              "\n",
              "    .dataframe thead th {\n",
              "        text-align: right;\n",
              "    }\n",
              "</style>\n",
              "<table border=\"1\" class=\"dataframe\">\n",
              "  <thead>\n",
              "    <tr style=\"text-align: right;\">\n",
              "      <th></th>\n",
              "      <th>reg_name</th>\n",
              "      <th>cnt_employer</th>\n",
              "      <th>cnt_vacancies</th>\n",
              "    </tr>\n",
              "  </thead>\n",
              "  <tbody>\n",
              "    <tr>\n",
              "      <th>0</th>\n",
              "      <td>Россия</td>\n",
              "      <td>410</td>\n",
              "      <td>0</td>\n",
              "    </tr>\n",
              "    <tr>\n",
              "      <th>1</th>\n",
              "      <td>Казахстан</td>\n",
              "      <td>207</td>\n",
              "      <td>0</td>\n",
              "    </tr>\n",
              "    <tr>\n",
              "      <th>2</th>\n",
              "      <td>Московская область</td>\n",
              "      <td>75</td>\n",
              "      <td>0</td>\n",
              "    </tr>\n",
              "    <tr>\n",
              "      <th>3</th>\n",
              "      <td>Краснодарский край</td>\n",
              "      <td>19</td>\n",
              "      <td>0</td>\n",
              "    </tr>\n",
              "    <tr>\n",
              "      <th>4</th>\n",
              "      <td>Беларусь</td>\n",
              "      <td>18</td>\n",
              "      <td>0</td>\n",
              "    </tr>\n",
              "    <tr>\n",
              "      <th>...</th>\n",
              "      <td>...</td>\n",
              "      <td>...</td>\n",
              "      <td>...</td>\n",
              "    </tr>\n",
              "    <tr>\n",
              "      <th>588</th>\n",
              "      <td>Струнино</td>\n",
              "      <td>0</td>\n",
              "      <td>0</td>\n",
              "    </tr>\n",
              "    <tr>\n",
              "      <th>589</th>\n",
              "      <td>Славгород (Алтайский край)</td>\n",
              "      <td>0</td>\n",
              "      <td>0</td>\n",
              "    </tr>\n",
              "    <tr>\n",
              "      <th>590</th>\n",
              "      <td>Сорочинск</td>\n",
              "      <td>0</td>\n",
              "      <td>0</td>\n",
              "    </tr>\n",
              "    <tr>\n",
              "      <th>591</th>\n",
              "      <td>Ленинский (Тульская область)</td>\n",
              "      <td>0</td>\n",
              "      <td>0</td>\n",
              "    </tr>\n",
              "    <tr>\n",
              "      <th>592</th>\n",
              "      <td>Тавда</td>\n",
              "      <td>0</td>\n",
              "      <td>0</td>\n",
              "    </tr>\n",
              "  </tbody>\n",
              "</table>\n",
              "<p>593 rows × 3 columns</p>\n",
              "</div>"
            ],
            "text/plain": [
              "                         reg_name  cnt_employer  cnt_vacancies\n",
              "0                          Россия           410              0\n",
              "1                       Казахстан           207              0\n",
              "2              Московская область            75              0\n",
              "3              Краснодарский край            19              0\n",
              "4                        Беларусь            18              0\n",
              "..                            ...           ...            ...\n",
              "588                      Струнино             0              0\n",
              "589    Славгород (Алтайский край)             0              0\n",
              "590                     Сорочинск             0              0\n",
              "591  Ленинский (Тульская область)             0              0\n",
              "592                         Тавда             0              0\n",
              "\n",
              "[593 rows x 3 columns]"
            ]
          },
          "execution_count": 77,
          "metadata": {},
          "output_type": "execute_result"
        }
      ],
      "source": [
        "df_5_2 = pd.read_sql_query(query_5_2, connection);\n",
        "df_5_2"
      ]
    },
    {
      "cell_type": "markdown",
      "id": "f2fe0acb-ab1a-4e15-9326-2560e22d73c1",
      "metadata": {
        "id": "f2fe0acb-ab1a-4e15-9326-2560e22d73c1"
      },
      "source": [
        "3. Для каждого работодателя посчитайте количество регионов, в которых он публикует свои вакансии. Отсортируйте результат по убыванию количества.\n"
      ]
    },
    {
      "cell_type": "code",
      "execution_count": 78,
      "id": "6271f8ad-bd2e-4196-ae4a-5b39c4c1010e",
      "metadata": {
        "id": "6271f8ad-bd2e-4196-ae4a-5b39c4c1010e"
      },
      "outputs": [],
      "source": [
        "# с помощью distinct получаем уникальные значения \n",
        "query_5_3 = f'''select\n",
        "                    e.name as emp_name,\n",
        "                    count(distinct v.area_id) as cnt_area\n",
        "                from vacancies as v\n",
        "                    join employers as e on e.id = v.employer_id\n",
        "                group by e.id\n",
        "                order by 2 desc\n",
        "                '''"
      ]
    },
    {
      "cell_type": "code",
      "execution_count": 79,
      "id": "1EIvX3HasH4F",
      "metadata": {
        "id": "1EIvX3HasH4F"
      },
      "outputs": [
        {
          "name": "stderr",
          "output_type": "stream",
          "text": [
            "C:\\Users\\vivec\\AppData\\Local\\Temp\\ipykernel_10332\\3136109519.py:1: UserWarning: pandas only supports SQLAlchemy connectable (engine/connection) or database string URI or sqlite3 DBAPI2 connection. Other DBAPI2 objects are not tested. Please consider using SQLAlchemy.\n",
            "  df_5_3 = pd.read_sql_query(query_5_3, connection);\n"
          ]
        },
        {
          "data": {
            "text/html": [
              "<div>\n",
              "<style scoped>\n",
              "    .dataframe tbody tr th:only-of-type {\n",
              "        vertical-align: middle;\n",
              "    }\n",
              "\n",
              "    .dataframe tbody tr th {\n",
              "        vertical-align: top;\n",
              "    }\n",
              "\n",
              "    .dataframe thead th {\n",
              "        text-align: right;\n",
              "    }\n",
              "</style>\n",
              "<table border=\"1\" class=\"dataframe\">\n",
              "  <thead>\n",
              "    <tr style=\"text-align: right;\">\n",
              "      <th></th>\n",
              "      <th>emp_name</th>\n",
              "      <th>cnt_area</th>\n",
              "    </tr>\n",
              "  </thead>\n",
              "  <tbody>\n",
              "    <tr>\n",
              "      <th>0</th>\n",
              "      <td>Яндекс</td>\n",
              "      <td>181</td>\n",
              "    </tr>\n",
              "    <tr>\n",
              "      <th>1</th>\n",
              "      <td>Ростелеком</td>\n",
              "      <td>152</td>\n",
              "    </tr>\n",
              "    <tr>\n",
              "      <th>2</th>\n",
              "      <td>Спецремонт</td>\n",
              "      <td>116</td>\n",
              "    </tr>\n",
              "    <tr>\n",
              "      <th>3</th>\n",
              "      <td>Поляков Денис Иванович</td>\n",
              "      <td>88</td>\n",
              "    </tr>\n",
              "    <tr>\n",
              "      <th>4</th>\n",
              "      <td>ООО ЕФИН</td>\n",
              "      <td>71</td>\n",
              "    </tr>\n",
              "    <tr>\n",
              "      <th>...</th>\n",
              "      <td>...</td>\n",
              "      <td>...</td>\n",
              "    </tr>\n",
              "    <tr>\n",
              "      <th>14901</th>\n",
              "      <td>НПП Авиатрон</td>\n",
              "      <td>1</td>\n",
              "    </tr>\n",
              "    <tr>\n",
              "      <th>14902</th>\n",
              "      <td>Центр дистанционных торгов</td>\n",
              "      <td>1</td>\n",
              "    </tr>\n",
              "    <tr>\n",
              "      <th>14903</th>\n",
              "      <td>Городские Телекоммуникационные Системы</td>\n",
              "      <td>1</td>\n",
              "    </tr>\n",
              "    <tr>\n",
              "      <th>14904</th>\n",
              "      <td>Введенский, Отель</td>\n",
              "      <td>1</td>\n",
              "    </tr>\n",
              "    <tr>\n",
              "      <th>14905</th>\n",
              "      <td>Группа Компаний Автоимпорт</td>\n",
              "      <td>1</td>\n",
              "    </tr>\n",
              "  </tbody>\n",
              "</table>\n",
              "<p>14906 rows × 2 columns</p>\n",
              "</div>"
            ],
            "text/plain": [
              "                                     emp_name  cnt_area\n",
              "0                                      Яндекс       181\n",
              "1                                  Ростелеком       152\n",
              "2                                  Спецремонт       116\n",
              "3                      Поляков Денис Иванович        88\n",
              "4                                   ООО ЕФИН         71\n",
              "...                                       ...       ...\n",
              "14901                            НПП Авиатрон         1\n",
              "14902              Центр дистанционных торгов         1\n",
              "14903  Городские Телекоммуникационные Системы         1\n",
              "14904                       Введенский, Отель         1\n",
              "14905              Группа Компаний Автоимпорт         1\n",
              "\n",
              "[14906 rows x 2 columns]"
            ]
          },
          "execution_count": 79,
          "metadata": {},
          "output_type": "execute_result"
        }
      ],
      "source": [
        "df_5_3 = pd.read_sql_query(query_5_3, connection);\n",
        "df_5_3"
      ]
    },
    {
      "cell_type": "markdown",
      "id": "eab2206d-d95b-468b-8e5f-34381abf0ce7",
      "metadata": {
        "id": "eab2206d-d95b-468b-8e5f-34381abf0ce7"
      },
      "source": [
        "4. Напишите запрос для подсчёта количества работодателей, у которых не указана сфера деятельности. "
      ]
    },
    {
      "cell_type": "code",
      "execution_count": 80,
      "id": "80defb23-bfb1-4a18-8be6-bf36aa7165d5",
      "metadata": {
        "id": "80defb23-bfb1-4a18-8be6-bf36aa7165d5"
      },
      "outputs": [],
      "source": [
        "query_5_4 = f'''select\n",
        "                    count(e.id)\n",
        "                from employers as e\n",
        "                    full join employers_industries as ei on ei.employer_id = e.id\n",
        "                where ei.industry_id is null\n",
        "                '''"
      ]
    },
    {
      "cell_type": "code",
      "execution_count": 81,
      "id": "Dp_yCx6ysQSu",
      "metadata": {
        "id": "Dp_yCx6ysQSu"
      },
      "outputs": [
        {
          "name": "stderr",
          "output_type": "stream",
          "text": [
            "C:\\Users\\vivec\\AppData\\Local\\Temp\\ipykernel_10332\\980203943.py:1: UserWarning: pandas only supports SQLAlchemy connectable (engine/connection) or database string URI or sqlite3 DBAPI2 connection. Other DBAPI2 objects are not tested. Please consider using SQLAlchemy.\n",
            "  df_5_4 = pd.read_sql_query(query_5_4, connection);\n"
          ]
        },
        {
          "data": {
            "text/html": [
              "<div>\n",
              "<style scoped>\n",
              "    .dataframe tbody tr th:only-of-type {\n",
              "        vertical-align: middle;\n",
              "    }\n",
              "\n",
              "    .dataframe tbody tr th {\n",
              "        vertical-align: top;\n",
              "    }\n",
              "\n",
              "    .dataframe thead th {\n",
              "        text-align: right;\n",
              "    }\n",
              "</style>\n",
              "<table border=\"1\" class=\"dataframe\">\n",
              "  <thead>\n",
              "    <tr style=\"text-align: right;\">\n",
              "      <th></th>\n",
              "      <th>count</th>\n",
              "    </tr>\n",
              "  </thead>\n",
              "  <tbody>\n",
              "    <tr>\n",
              "      <th>0</th>\n",
              "      <td>8419</td>\n",
              "    </tr>\n",
              "  </tbody>\n",
              "</table>\n",
              "</div>"
            ],
            "text/plain": [
              "   count\n",
              "0   8419"
            ]
          },
          "execution_count": 81,
          "metadata": {},
          "output_type": "execute_result"
        }
      ],
      "source": [
        "df_5_4 = pd.read_sql_query(query_5_4, connection);\n",
        "df_5_4"
      ]
    },
    {
      "cell_type": "markdown",
      "id": "0112af31-f6b0-4e3b-82ab-71296e752e5e",
      "metadata": {
        "id": "0112af31-f6b0-4e3b-82ab-71296e752e5e"
      },
      "source": [
        "5. Напишите запрос, чтобы узнать название компании, находящейся на третьем месте в алфавитном списке (по названию) компаний, у которых указано четыре сферы деятельности. "
      ]
    },
    {
      "cell_type": "code",
      "execution_count": 82,
      "id": "973b0cfc-a972-470a-8b4a-68744ef220c4",
      "metadata": {
        "id": "973b0cfc-a972-470a-8b4a-68744ef220c4"
      },
      "outputs": [],
      "source": [
        "query_5_5 = f'''select\n",
        "                    e.name as comp_name,\n",
        "                    count(ei.industry_id) as cnt_indusrty\n",
        "                from employers as e\n",
        "                    full join employers_industries as ei on ei.employer_id = e.id\n",
        "                group by comp_name\n",
        "                having count(ei.industry_id) = 4\n",
        "                order by 1\n",
        "                '''"
      ]
    },
    {
      "cell_type": "code",
      "execution_count": 83,
      "id": "xsPtpp8EsaED",
      "metadata": {
        "id": "xsPtpp8EsaED"
      },
      "outputs": [
        {
          "name": "stderr",
          "output_type": "stream",
          "text": [
            "C:\\Users\\vivec\\AppData\\Local\\Temp\\ipykernel_10332\\4268956696.py:1: UserWarning: pandas only supports SQLAlchemy connectable (engine/connection) or database string URI or sqlite3 DBAPI2 connection. Other DBAPI2 objects are not tested. Please consider using SQLAlchemy.\n",
            "  df_5_5 = pd.read_sql_query(query_5_5, connection);\n"
          ]
        },
        {
          "data": {
            "text/html": [
              "<div>\n",
              "<style scoped>\n",
              "    .dataframe tbody tr th:only-of-type {\n",
              "        vertical-align: middle;\n",
              "    }\n",
              "\n",
              "    .dataframe tbody tr th {\n",
              "        vertical-align: top;\n",
              "    }\n",
              "\n",
              "    .dataframe thead th {\n",
              "        text-align: right;\n",
              "    }\n",
              "</style>\n",
              "<table border=\"1\" class=\"dataframe\">\n",
              "  <thead>\n",
              "    <tr style=\"text-align: right;\">\n",
              "      <th></th>\n",
              "      <th>comp_name</th>\n",
              "      <th>cnt_indusrty</th>\n",
              "    </tr>\n",
              "  </thead>\n",
              "  <tbody>\n",
              "    <tr>\n",
              "      <th>0</th>\n",
              "      <td>101 Интернет</td>\n",
              "      <td>4</td>\n",
              "    </tr>\n",
              "    <tr>\n",
              "      <th>1</th>\n",
              "      <td>21vek.by</td>\n",
              "      <td>4</td>\n",
              "    </tr>\n",
              "    <tr>\n",
              "      <th>2</th>\n",
              "      <td>2ГИС</td>\n",
              "      <td>4</td>\n",
              "    </tr>\n",
              "    <tr>\n",
              "      <th>3</th>\n",
              "      <td>2К</td>\n",
              "      <td>4</td>\n",
              "    </tr>\n",
              "    <tr>\n",
              "      <th>4</th>\n",
              "      <td>4 пикселя +</td>\n",
              "      <td>4</td>\n",
              "    </tr>\n",
              "    <tr>\n",
              "      <th>...</th>\n",
              "      <td>...</td>\n",
              "      <td>...</td>\n",
              "    </tr>\n",
              "    <tr>\n",
              "      <th>1131</th>\n",
              "      <td>ЮРИОН</td>\n",
              "      <td>4</td>\n",
              "    </tr>\n",
              "    <tr>\n",
              "      <th>1132</th>\n",
              "      <td>ЮТИП Технологии</td>\n",
              "      <td>4</td>\n",
              "    </tr>\n",
              "    <tr>\n",
              "      <th>1133</th>\n",
              "      <td>ЯКласс</td>\n",
              "      <td>4</td>\n",
              "    </tr>\n",
              "    <tr>\n",
              "      <th>1134</th>\n",
              "      <td>ЯрНео</td>\n",
              "      <td>4</td>\n",
              "    </tr>\n",
              "    <tr>\n",
              "      <th>1135</th>\n",
              "      <td>Яшин&amp;Партнёры</td>\n",
              "      <td>4</td>\n",
              "    </tr>\n",
              "  </tbody>\n",
              "</table>\n",
              "<p>1136 rows × 2 columns</p>\n",
              "</div>"
            ],
            "text/plain": [
              "            comp_name  cnt_indusrty\n",
              "0        101 Интернет             4\n",
              "1            21vek.by             4\n",
              "2                2ГИС             4\n",
              "3                  2К             4\n",
              "4         4 пикселя +             4\n",
              "...               ...           ...\n",
              "1131            ЮРИОН             4\n",
              "1132  ЮТИП Технологии             4\n",
              "1133           ЯКласс             4\n",
              "1134            ЯрНео             4\n",
              "1135    Яшин&Партнёры             4\n",
              "\n",
              "[1136 rows x 2 columns]"
            ]
          },
          "execution_count": 83,
          "metadata": {},
          "output_type": "execute_result"
        }
      ],
      "source": [
        "df_5_5 = pd.read_sql_query(query_5_5, connection);\n",
        "df_5_5"
      ]
    },
    {
      "cell_type": "markdown",
      "id": "3bfcfdaf-755d-4d2b-8ed8-326201dc07ab",
      "metadata": {
        "id": "3bfcfdaf-755d-4d2b-8ed8-326201dc07ab"
      },
      "source": [
        "6. С помощью запроса выясните, у какого количества работодателей в качестве сферы деятельности указана Разработка программного обеспечения.\n"
      ]
    },
    {
      "cell_type": "code",
      "execution_count": 84,
      "id": "ad3f270f-2991-47eb-929b-e8f88a55b0d1",
      "metadata": {
        "id": "ad3f270f-2991-47eb-929b-e8f88a55b0d1"
      },
      "outputs": [],
      "source": [
        "query_5_6 = f'''select\n",
        "                    count(distinct e.id)\n",
        "                from employers as e\n",
        "                    full join employers_industries as ei on ei.employer_id = e.id\n",
        "                    full join industries as i on ei.industry_id = i.id\n",
        "                where i.name = 'Разработка программного обеспечения'\n",
        "                '''"
      ]
    },
    {
      "cell_type": "code",
      "execution_count": 85,
      "id": "H72qxWM0shPR",
      "metadata": {
        "id": "H72qxWM0shPR"
      },
      "outputs": [
        {
          "name": "stderr",
          "output_type": "stream",
          "text": [
            "C:\\Users\\vivec\\AppData\\Local\\Temp\\ipykernel_10332\\1956844454.py:1: UserWarning: pandas only supports SQLAlchemy connectable (engine/connection) or database string URI or sqlite3 DBAPI2 connection. Other DBAPI2 objects are not tested. Please consider using SQLAlchemy.\n",
            "  df_5_6 = pd.read_sql_query(query_5_6, connection);\n"
          ]
        },
        {
          "data": {
            "text/html": [
              "<div>\n",
              "<style scoped>\n",
              "    .dataframe tbody tr th:only-of-type {\n",
              "        vertical-align: middle;\n",
              "    }\n",
              "\n",
              "    .dataframe tbody tr th {\n",
              "        vertical-align: top;\n",
              "    }\n",
              "\n",
              "    .dataframe thead th {\n",
              "        text-align: right;\n",
              "    }\n",
              "</style>\n",
              "<table border=\"1\" class=\"dataframe\">\n",
              "  <thead>\n",
              "    <tr style=\"text-align: right;\">\n",
              "      <th></th>\n",
              "      <th>count</th>\n",
              "    </tr>\n",
              "  </thead>\n",
              "  <tbody>\n",
              "    <tr>\n",
              "      <th>0</th>\n",
              "      <td>3553</td>\n",
              "    </tr>\n",
              "  </tbody>\n",
              "</table>\n",
              "</div>"
            ],
            "text/plain": [
              "   count\n",
              "0   3553"
            ]
          },
          "execution_count": 85,
          "metadata": {},
          "output_type": "execute_result"
        }
      ],
      "source": [
        "df_5_6 = pd.read_sql_query(query_5_6, connection);\n",
        "df_5_6"
      ]
    },
    {
      "cell_type": "markdown",
      "id": "7b02bb86-0546-40fb-94a4-242f050a5c57",
      "metadata": {
        "id": "7b02bb86-0546-40fb-94a4-242f050a5c57"
      },
      "source": [
        "7. Для компании «Яндекс» выведите список регионов-миллионников, в которых представлены вакансии компании, вместе с количеством вакансий в этих регионах. Также добавьте строку Total с общим количеством вакансий компании. Результат отсортируйте по возрастанию количества.\n",
        "\n",
        "Список городов-милионников надо взять [отсюда](https://ru.wikipedia.org/wiki/%D0%93%D0%BE%D1%80%D0%BE%D0%B4%D0%B0-%D0%BC%D0%B8%D0%BB%D0%BB%D0%B8%D0%BE%D0%BD%D0%B5%D1%80%D1%8B_%D0%A0%D0%BE%D1%81%D1%81%D0%B8%D0%B8). \n",
        "\n",
        "Если возникнут трудности с этим задание посмотрите материалы модуля  PYTHON-17. Как получать данные из веб-источников и API. "
      ]
    },
    {
      "cell_type": "code",
      "execution_count": 86,
      "id": "ZdfrL6gIs1Pn",
      "metadata": {
        "id": "ZdfrL6gIs1Pn"
      },
      "outputs": [
        {
          "name": "stdout",
          "output_type": "stream",
          "text": [
            "['Москва', 'Санкт-Петербург', 'Новосибирск', 'Екатеринбург', 'Казань', 'Нижний Новгород', 'Челябинск', 'Красноярск', 'Самара', 'Уфа', 'Ростов-на-Дону', 'Омск', 'Краснодар', 'Воронеж', 'Пермь', 'Волгоград']\n"
          ]
        }
      ],
      "source": [
        "# код для получения списка городов-милионников\n",
        "import requests\n",
        "from bs4 import BeautifulSoup\n",
        "\n",
        "# переменной присваиваем адресс страницы\n",
        "url = 'https://ru.wikipedia.org/wiki/Города-миллионеры_России#Список_городов-миллионеров'\n",
        "# читаем адресс страницы \n",
        "response = requests.get(url) \n",
        "page = BeautifulSoup(response.text, 'html.parser')\n",
        "# получаем таблицы \n",
        "list_city = page.find_all('table') \n",
        "# выбираем нужную таблицу\n",
        "list_city = list_city[1] \n",
        "# создаём пустой список для городов\n",
        "cities_ml = []\n",
        "# перебираем все значения и заносим в список\n",
        "for i in list_city.find_all('td'): \n",
        "    city = i.text\n",
        "    cities_ml.append(city)\n",
        "# отбираем только города из полученного списка \n",
        "cities_ml = cities_ml[1::5] \n",
        "# заменяем значение \n",
        "cities_ml[13] = 'Воронеж' \n",
        "cities_ml = list(cities_ml)\n",
        "print(cities_ml)"
      ]
    },
    {
      "cell_type": "code",
      "execution_count": 87,
      "id": "5a0e32a4-e68a-4365-8a39-2fe24c542c36",
      "metadata": {
        "id": "5a0e32a4-e68a-4365-8a39-2fe24c542c36"
      },
      "outputs": [],
      "source": [
        "# делаем объединение таблиц с помощью union all, чтобы добавить строку Total\n",
        "query_5_7 = f'''select\n",
        "                    a.name as name_reg,\n",
        "                    count(distinct v.id) as cnt_vac\n",
        "                from areas as a\n",
        "                    join vacancies as v on v.area_id = a.id\n",
        "                    join employers as e on v.employer_id = e.id \n",
        "                    and e.name = 'Яндекс'\n",
        "                    and a.name in ('Москва', 'Санкт-Петербург', 'Новосибирск', \n",
        "                    'Екатеринбург', 'Казань', 'Нижний Новгород', 'Челябинск', \n",
        "                    'Красноярск', 'Самара', 'Уфа', 'Ростов-на-Дону', 'Омск', \n",
        "                    'Краснодар', 'Воронеж', 'Пермь', 'Волгоград')\n",
        "                group by 1\n",
        "                union all\n",
        "                select \n",
        "                    'Total',\n",
        "                    count(*)\n",
        "                from areas as a\n",
        "                    join vacancies as v on v.area_id = a.id\n",
        "                    join employers as e on v.employer_id = e.id \n",
        "                    and e.name = 'Яндекс'\n",
        "                    and a.name in ('Москва', 'Санкт-Петербург', 'Новосибирск', \n",
        "                    'Екатеринбург', 'Казань', 'Нижний Новгород', 'Челябинск', \n",
        "                    'Красноярск', 'Самара', 'Уфа', 'Ростов-на-Дону', 'Омск', \n",
        "                    'Краснодар', 'Воронеж', 'Пермь', 'Волгоград')\n",
        "                '''"
      ]
    },
    {
      "cell_type": "code",
      "execution_count": 88,
      "id": "ttPhiO1rsvPq",
      "metadata": {
        "id": "ttPhiO1rsvPq"
      },
      "outputs": [
        {
          "name": "stderr",
          "output_type": "stream",
          "text": [
            "C:\\Users\\vivec\\AppData\\Local\\Temp\\ipykernel_10332\\3244254936.py:1: UserWarning: pandas only supports SQLAlchemy connectable (engine/connection) or database string URI or sqlite3 DBAPI2 connection. Other DBAPI2 objects are not tested. Please consider using SQLAlchemy.\n",
            "  df_5_7 = pd.read_sql_query(query_5_7, connection);\n"
          ]
        },
        {
          "data": {
            "text/html": [
              "<div>\n",
              "<style scoped>\n",
              "    .dataframe tbody tr th:only-of-type {\n",
              "        vertical-align: middle;\n",
              "    }\n",
              "\n",
              "    .dataframe tbody tr th {\n",
              "        vertical-align: top;\n",
              "    }\n",
              "\n",
              "    .dataframe thead th {\n",
              "        text-align: right;\n",
              "    }\n",
              "</style>\n",
              "<table border=\"1\" class=\"dataframe\">\n",
              "  <thead>\n",
              "    <tr style=\"text-align: right;\">\n",
              "      <th></th>\n",
              "      <th>name_reg</th>\n",
              "      <th>cnt_vac</th>\n",
              "    </tr>\n",
              "  </thead>\n",
              "  <tbody>\n",
              "    <tr>\n",
              "      <th>0</th>\n",
              "      <td>Total</td>\n",
              "      <td>485</td>\n",
              "    </tr>\n",
              "    <tr>\n",
              "      <th>1</th>\n",
              "      <td>Волгоград</td>\n",
              "      <td>24</td>\n",
              "    </tr>\n",
              "    <tr>\n",
              "      <th>2</th>\n",
              "      <td>Воронеж</td>\n",
              "      <td>32</td>\n",
              "    </tr>\n",
              "    <tr>\n",
              "      <th>3</th>\n",
              "      <td>Екатеринбург</td>\n",
              "      <td>39</td>\n",
              "    </tr>\n",
              "    <tr>\n",
              "      <th>4</th>\n",
              "      <td>Казань</td>\n",
              "      <td>25</td>\n",
              "    </tr>\n",
              "    <tr>\n",
              "      <th>5</th>\n",
              "      <td>Краснодар</td>\n",
              "      <td>30</td>\n",
              "    </tr>\n",
              "    <tr>\n",
              "      <th>6</th>\n",
              "      <td>Красноярск</td>\n",
              "      <td>23</td>\n",
              "    </tr>\n",
              "    <tr>\n",
              "      <th>7</th>\n",
              "      <td>Москва</td>\n",
              "      <td>54</td>\n",
              "    </tr>\n",
              "    <tr>\n",
              "      <th>8</th>\n",
              "      <td>Нижний Новгород</td>\n",
              "      <td>36</td>\n",
              "    </tr>\n",
              "    <tr>\n",
              "      <th>9</th>\n",
              "      <td>Новосибирск</td>\n",
              "      <td>35</td>\n",
              "    </tr>\n",
              "    <tr>\n",
              "      <th>10</th>\n",
              "      <td>Омск</td>\n",
              "      <td>21</td>\n",
              "    </tr>\n",
              "    <tr>\n",
              "      <th>11</th>\n",
              "      <td>Пермь</td>\n",
              "      <td>25</td>\n",
              "    </tr>\n",
              "    <tr>\n",
              "      <th>12</th>\n",
              "      <td>Ростов-на-Дону</td>\n",
              "      <td>25</td>\n",
              "    </tr>\n",
              "    <tr>\n",
              "      <th>13</th>\n",
              "      <td>Самара</td>\n",
              "      <td>26</td>\n",
              "    </tr>\n",
              "    <tr>\n",
              "      <th>14</th>\n",
              "      <td>Санкт-Петербург</td>\n",
              "      <td>42</td>\n",
              "    </tr>\n",
              "    <tr>\n",
              "      <th>15</th>\n",
              "      <td>Уфа</td>\n",
              "      <td>26</td>\n",
              "    </tr>\n",
              "    <tr>\n",
              "      <th>16</th>\n",
              "      <td>Челябинск</td>\n",
              "      <td>22</td>\n",
              "    </tr>\n",
              "  </tbody>\n",
              "</table>\n",
              "</div>"
            ],
            "text/plain": [
              "           name_reg  cnt_vac\n",
              "0             Total      485\n",
              "1         Волгоград       24\n",
              "2           Воронеж       32\n",
              "3      Екатеринбург       39\n",
              "4            Казань       25\n",
              "5         Краснодар       30\n",
              "6        Красноярск       23\n",
              "7            Москва       54\n",
              "8   Нижний Новгород       36\n",
              "9       Новосибирск       35\n",
              "10             Омск       21\n",
              "11            Пермь       25\n",
              "12   Ростов-на-Дону       25\n",
              "13           Самара       26\n",
              "14  Санкт-Петербург       42\n",
              "15              Уфа       26\n",
              "16        Челябинск       22"
            ]
          },
          "execution_count": 88,
          "metadata": {},
          "output_type": "execute_result"
        }
      ],
      "source": [
        "df_5_7 = pd.read_sql_query(query_5_7, connection);\n",
        "df_5_7"
      ]
    },
    {
      "cell_type": "markdown",
      "id": "04966e40-3bc3-4dc8-9ba2-e80580ce3abc",
      "metadata": {
        "id": "04966e40-3bc3-4dc8-9ba2-e80580ce3abc"
      },
      "source": [
        "***"
      ]
    },
    {
      "attachments": {},
      "cell_type": "markdown",
      "id": "99891711",
      "metadata": {},
      "source": [
        "### 1. Получили таблицу с указаннием работадателей у которых больше всего вакансий, на первом месте Яндекс, за ним следует Ростелеком и Тинькофф.\n",
        "### 2. Получили таблицу с регионами у которых много работадателей, но нет вакансий, возможно в регионе и не требуются специалисты, а возможно и была допущена ошибка в вакансии.\n",
        "### 3. Получили список работадателей и количество регионов в которых есть вакансии, на первом месте Яндекс, на втором Ростелеком и на третьем Спецремонт.\n",
        "### 4. Узнали что у 8419 работадателей не указана сфера деятельности.\n",
        "### 5. Получили таблицу с работадателями у которых указанно 4 сфер деятельности (1136 работадателей)\n",
        "### 6. Узнали что 3553 работадателя ищут разработчика программного обеспечения.\n",
        "### 7. Собрали данные по компании Яндекс, выяснили сколько вакансий в регеонах миллионниках и получили общее количество вакансий (485)\n",
        "### Из этих данных можно сделать вывод, что компания Яндекс предоставляет большое количество вакансий в разных регионах, компания стремительно развивается.  "
      ]
    },
    {
      "cell_type": "markdown",
      "id": "b1ef156a-efcb-49ce-bb23-90763e7f35b2",
      "metadata": {
        "id": "b1ef156a-efcb-49ce-bb23-90763e7f35b2",
        "tags": []
      },
      "source": [
        "# Юнит 6. Предметный анализ"
      ]
    },
    {
      "cell_type": "markdown",
      "id": "b9cd50a0-992d-4988-8463-2b2b1c4629b4",
      "metadata": {
        "id": "b9cd50a0-992d-4988-8463-2b2b1c4629b4"
      },
      "source": [
        "1. Сколько вакансий имеет отношение к данным?\n",
        "\n",
        "Считаем, что вакансия имеет отношение к данным, если в её названии содержатся слова 'data' или 'данн'.\n",
        "\n",
        "*Подсказка: Обратите внимание, что названия вакансий могут быть написаны в любом регистре.* \n"
      ]
    },
    {
      "cell_type": "code",
      "execution_count": 89,
      "id": "54ab0e50-c0f1-47cc-a54b-bc5c8bc363f9",
      "metadata": {
        "id": "54ab0e50-c0f1-47cc-a54b-bc5c8bc363f9"
      },
      "outputs": [],
      "source": [
        "# в условиях поиска названия приводим к нижнему регистру с помощью lower\n",
        "# делаем поиск по совпадению слов в названии вакансии \n",
        "query_6_1 = f'''select\n",
        "                    count(v.id)\n",
        "                from vacancies as v \n",
        "                where lower(v.name) like '%данн%'\n",
        "                    or lower(v.name) like '%data%'\n",
        "                '''\n",
        "                "
      ]
    },
    {
      "cell_type": "code",
      "execution_count": 90,
      "id": "9F1meAqsuUjd",
      "metadata": {
        "id": "9F1meAqsuUjd"
      },
      "outputs": [
        {
          "name": "stderr",
          "output_type": "stream",
          "text": [
            "C:\\Users\\vivec\\AppData\\Local\\Temp\\ipykernel_10332\\1490021324.py:1: UserWarning: pandas only supports SQLAlchemy connectable (engine/connection) or database string URI or sqlite3 DBAPI2 connection. Other DBAPI2 objects are not tested. Please consider using SQLAlchemy.\n",
            "  df_6_1 = pd.read_sql_query(query_6_1, connection);\n"
          ]
        },
        {
          "data": {
            "text/html": [
              "<div>\n",
              "<style scoped>\n",
              "    .dataframe tbody tr th:only-of-type {\n",
              "        vertical-align: middle;\n",
              "    }\n",
              "\n",
              "    .dataframe tbody tr th {\n",
              "        vertical-align: top;\n",
              "    }\n",
              "\n",
              "    .dataframe thead th {\n",
              "        text-align: right;\n",
              "    }\n",
              "</style>\n",
              "<table border=\"1\" class=\"dataframe\">\n",
              "  <thead>\n",
              "    <tr style=\"text-align: right;\">\n",
              "      <th></th>\n",
              "      <th>count</th>\n",
              "    </tr>\n",
              "  </thead>\n",
              "  <tbody>\n",
              "    <tr>\n",
              "      <th>0</th>\n",
              "      <td>1771</td>\n",
              "    </tr>\n",
              "  </tbody>\n",
              "</table>\n",
              "</div>"
            ],
            "text/plain": [
              "   count\n",
              "0   1771"
            ]
          },
          "execution_count": 90,
          "metadata": {},
          "output_type": "execute_result"
        }
      ],
      "source": [
        "df_6_1 = pd.read_sql_query(query_6_1, connection);\n",
        "df_6_1"
      ]
    },
    {
      "cell_type": "markdown",
      "id": "4dea20cb-a36b-474a-a0b9-e08e8e3857a5",
      "metadata": {
        "id": "4dea20cb-a36b-474a-a0b9-e08e8e3857a5"
      },
      "source": [
        "2. Сколько есть подходящих вакансий для начинающего дата-сайентиста? \n",
        "Будем считать вакансиями для дата-сайентистов такие, в названии которых есть хотя бы одно из следующих сочетаний:\n",
        "* 'data scientist'\n",
        "* 'data science'\n",
        "* 'исследователь данных'\n",
        "* 'ML' (здесь не нужно брать вакансии по HTML)\n",
        "* 'machine learning'\n",
        "* 'машинн%обучен%'\n",
        "\n",
        "** В следующих заданиях мы продолжим работать с вакансиями по этому условию.*\n",
        "\n",
        "Считаем вакансиями для специалистов уровня Junior следующие:\n",
        "* в названии есть слово 'junior' *или*\n",
        "* требуемый опыт — Нет опыта *или*\n",
        "* тип трудоустройства — Стажировка.\n",
        " "
      ]
    },
    {
      "cell_type": "code",
      "execution_count": 91,
      "id": "9c61b3c0-bb66-46c9-ae1e-81d3f5752b4a",
      "metadata": {
        "id": "9c61b3c0-bb66-46c9-ae1e-81d3f5752b4a"
      },
      "outputs": [],
      "source": [
        "query_6_2 = f'''select\n",
        "                    count(v.name)\n",
        "                from vacancies v\n",
        "                where (lower(v.name) like '%data%scientist%'\n",
        "                    or lower(v.name) like '%data%science%'\n",
        "                    or lower(v.name) like '%исследователь%данных%'\n",
        "                    or (v.name like '%ML%'\n",
        "                    and v.name not like '%HTML%')\n",
        "                    or lower(v.name) like '%machine%learning%'\n",
        "                    or lower(v.name) like '%машинн%обучен%')\n",
        "                    and (lower(v.experience) like '%нет%опыта%' \n",
        "                    or lower(v.employment) like '%стажировка%'\n",
        "                    or lower(v.name) like '%junior%')\n",
        "                '''"
      ]
    },
    {
      "cell_type": "code",
      "execution_count": 92,
      "id": "ZNM-LLYuu1dj",
      "metadata": {
        "id": "ZNM-LLYuu1dj"
      },
      "outputs": [
        {
          "name": "stderr",
          "output_type": "stream",
          "text": [
            "C:\\Users\\vivec\\AppData\\Local\\Temp\\ipykernel_10332\\683851843.py:1: UserWarning: pandas only supports SQLAlchemy connectable (engine/connection) or database string URI or sqlite3 DBAPI2 connection. Other DBAPI2 objects are not tested. Please consider using SQLAlchemy.\n",
            "  df_6_2 = pd.read_sql_query(query_6_2, connection);\n"
          ]
        },
        {
          "data": {
            "text/html": [
              "<div>\n",
              "<style scoped>\n",
              "    .dataframe tbody tr th:only-of-type {\n",
              "        vertical-align: middle;\n",
              "    }\n",
              "\n",
              "    .dataframe tbody tr th {\n",
              "        vertical-align: top;\n",
              "    }\n",
              "\n",
              "    .dataframe thead th {\n",
              "        text-align: right;\n",
              "    }\n",
              "</style>\n",
              "<table border=\"1\" class=\"dataframe\">\n",
              "  <thead>\n",
              "    <tr style=\"text-align: right;\">\n",
              "      <th></th>\n",
              "      <th>count</th>\n",
              "    </tr>\n",
              "  </thead>\n",
              "  <tbody>\n",
              "    <tr>\n",
              "      <th>0</th>\n",
              "      <td>51</td>\n",
              "    </tr>\n",
              "  </tbody>\n",
              "</table>\n",
              "</div>"
            ],
            "text/plain": [
              "   count\n",
              "0     51"
            ]
          },
          "execution_count": 92,
          "metadata": {},
          "output_type": "execute_result"
        }
      ],
      "source": [
        "df_6_2 = pd.read_sql_query(query_6_2, connection);\n",
        "df_6_2"
      ]
    },
    {
      "cell_type": "markdown",
      "id": "eedceb80-c5ca-480e-b27a-278dfb8b4438",
      "metadata": {
        "id": "eedceb80-c5ca-480e-b27a-278dfb8b4438"
      },
      "source": [
        "3. Сколько есть вакансий для DS, в которых в качестве ключевого навыка указан SQL или postgres?\n",
        "\n",
        "** Критерии для отнесения вакансии к DS указаны в предыдущем задании.*"
      ]
    },
    {
      "cell_type": "code",
      "execution_count": 93,
      "id": "69621713-0cc5-4f1b-a1d7-bb144fa6148c",
      "metadata": {
        "id": "69621713-0cc5-4f1b-a1d7-bb144fa6148c"
      },
      "outputs": [],
      "source": [
        "query_6_3 = f'''select\n",
        "                    count(v.name)\n",
        "                from vacancies v\n",
        "                where (lower(v.name) like '%data%scientist%'\n",
        "                or lower(v.name) like '%data%science%'\n",
        "                or lower(v.name) like '%исследователь%данных%'\n",
        "                or (v.name like '%ML%'\n",
        "                    and v.name not like '%HTML%')\n",
        "                or lower(v.name) like '%machine%learning%'\n",
        "                or lower(v.name) like '%машинн%обучен%')\n",
        "                and (v.key_skills like '%SQL%'\n",
        "                    or lower(v.key_skills) like '%postgres%')\n",
        "                '''"
      ]
    },
    {
      "cell_type": "code",
      "execution_count": 94,
      "id": "alA8WEAAvGdf",
      "metadata": {
        "id": "alA8WEAAvGdf"
      },
      "outputs": [
        {
          "name": "stderr",
          "output_type": "stream",
          "text": [
            "C:\\Users\\vivec\\AppData\\Local\\Temp\\ipykernel_10332\\3746522555.py:1: UserWarning: pandas only supports SQLAlchemy connectable (engine/connection) or database string URI or sqlite3 DBAPI2 connection. Other DBAPI2 objects are not tested. Please consider using SQLAlchemy.\n",
            "  df_6_3 = pd.read_sql_query(query_6_3, connection);\n"
          ]
        },
        {
          "data": {
            "text/html": [
              "<div>\n",
              "<style scoped>\n",
              "    .dataframe tbody tr th:only-of-type {\n",
              "        vertical-align: middle;\n",
              "    }\n",
              "\n",
              "    .dataframe tbody tr th {\n",
              "        vertical-align: top;\n",
              "    }\n",
              "\n",
              "    .dataframe thead th {\n",
              "        text-align: right;\n",
              "    }\n",
              "</style>\n",
              "<table border=\"1\" class=\"dataframe\">\n",
              "  <thead>\n",
              "    <tr style=\"text-align: right;\">\n",
              "      <th></th>\n",
              "      <th>count</th>\n",
              "    </tr>\n",
              "  </thead>\n",
              "  <tbody>\n",
              "    <tr>\n",
              "      <th>0</th>\n",
              "      <td>201</td>\n",
              "    </tr>\n",
              "  </tbody>\n",
              "</table>\n",
              "</div>"
            ],
            "text/plain": [
              "   count\n",
              "0    201"
            ]
          },
          "execution_count": 94,
          "metadata": {},
          "output_type": "execute_result"
        }
      ],
      "source": [
        "df_6_3 = pd.read_sql_query(query_6_3, connection);\n",
        "df_6_3"
      ]
    },
    {
      "cell_type": "markdown",
      "id": "1be1e9c6-37cf-4a5f-bfeb-04cab799dc80",
      "metadata": {
        "id": "1be1e9c6-37cf-4a5f-bfeb-04cab799dc80"
      },
      "source": [
        "4. Проверьте, насколько популярен Python в требованиях работодателей к DS.Для этого вычислите количество вакансий, в которых в качестве ключевого навыка указан Python.\n",
        "\n",
        "** Это можно сделать помощью запроса, аналогичного предыдущему.*"
      ]
    },
    {
      "cell_type": "code",
      "execution_count": 95,
      "id": "0036a355-9ccf-4564-8b01-73d8194297e7",
      "metadata": {
        "id": "0036a355-9ccf-4564-8b01-73d8194297e7"
      },
      "outputs": [],
      "source": [
        "query_6_4 = f'''select\n",
        "                    count(v.name)\n",
        "                from vacancies v\n",
        "                where (lower(v.name) like '%data%scientist%'\n",
        "                or lower(v.name) like '%data%science%'\n",
        "                or lower(v.name) like '%исследователь%данных%'\n",
        "                or (v.name like '%ML%'\n",
        "                    and v.name not like '%HTML%')\n",
        "                or lower(v.name) like '%machine%learning%'\n",
        "                or lower(v.name) like '%машинн%обучен%')\n",
        "                and lower(v.key_skills) like '%python%'\n",
        "                '''"
      ]
    },
    {
      "cell_type": "code",
      "execution_count": 96,
      "id": "1i-5WyucvQ6v",
      "metadata": {
        "id": "1i-5WyucvQ6v"
      },
      "outputs": [
        {
          "name": "stderr",
          "output_type": "stream",
          "text": [
            "C:\\Users\\vivec\\AppData\\Local\\Temp\\ipykernel_10332\\2873102221.py:1: UserWarning: pandas only supports SQLAlchemy connectable (engine/connection) or database string URI or sqlite3 DBAPI2 connection. Other DBAPI2 objects are not tested. Please consider using SQLAlchemy.\n",
            "  df_6_4 = pd.read_sql_query(query_6_4, connection);\n"
          ]
        },
        {
          "data": {
            "text/html": [
              "<div>\n",
              "<style scoped>\n",
              "    .dataframe tbody tr th:only-of-type {\n",
              "        vertical-align: middle;\n",
              "    }\n",
              "\n",
              "    .dataframe tbody tr th {\n",
              "        vertical-align: top;\n",
              "    }\n",
              "\n",
              "    .dataframe thead th {\n",
              "        text-align: right;\n",
              "    }\n",
              "</style>\n",
              "<table border=\"1\" class=\"dataframe\">\n",
              "  <thead>\n",
              "    <tr style=\"text-align: right;\">\n",
              "      <th></th>\n",
              "      <th>count</th>\n",
              "    </tr>\n",
              "  </thead>\n",
              "  <tbody>\n",
              "    <tr>\n",
              "      <th>0</th>\n",
              "      <td>351</td>\n",
              "    </tr>\n",
              "  </tbody>\n",
              "</table>\n",
              "</div>"
            ],
            "text/plain": [
              "   count\n",
              "0    351"
            ]
          },
          "execution_count": 96,
          "metadata": {},
          "output_type": "execute_result"
        }
      ],
      "source": [
        "df_6_4 = pd.read_sql_query(query_6_4, connection);\n",
        "df_6_4"
      ]
    },
    {
      "cell_type": "markdown",
      "id": "ec3c8db7-fa21-4a41-a994-1af63742a642",
      "metadata": {
        "id": "ec3c8db7-fa21-4a41-a994-1af63742a642"
      },
      "source": [
        "5. Сколько ключевых навыков в среднем указывают в вакансиях для DS?\n",
        "Ответ округлите до двух знаков после точки-разделителя."
      ]
    },
    {
      "cell_type": "code",
      "execution_count": 97,
      "id": "949132bc-d5b6-4611-8218-0b9a504d74f4",
      "metadata": {
        "id": "949132bc-d5b6-4611-8218-0b9a504d74f4"
      },
      "outputs": [],
      "source": [
        "# получаем среднее значение с помощью avg\n",
        "# так же получаем длину строки с помощью length \n",
        "# замения символы в строке с помощью replace \n",
        "query_6_5 = f'''select\n",
        "                    avg(\n",
        "                    length(v.key_skills)\n",
        "                    - length(replace(v.key_skills, CHR(9), ''))+1\n",
        "                    )\n",
        "                from vacancies v\n",
        "                where (lower(v.name) like '%data%scientist%'\n",
        "                    or lower(v.name) like '%data%science%'\n",
        "                    or lower(v.name) like '%исследователь%данных%'\n",
        "                    or (v.name like '%ML%'\n",
        "                        and v.name not like '%HTML%')\n",
        "                    or lower(v.name) like '%machine%learning%'\n",
        "                    or lower(v.name) like '%машинн%обучен%')\n",
        "                    and v.key_skills is not null\n",
        "                '''"
      ]
    },
    {
      "cell_type": "code",
      "execution_count": 98,
      "id": "a3V24Tvmviqk",
      "metadata": {
        "id": "a3V24Tvmviqk"
      },
      "outputs": [
        {
          "name": "stderr",
          "output_type": "stream",
          "text": [
            "C:\\Users\\vivec\\AppData\\Local\\Temp\\ipykernel_10332\\2433854141.py:1: UserWarning: pandas only supports SQLAlchemy connectable (engine/connection) or database string URI or sqlite3 DBAPI2 connection. Other DBAPI2 objects are not tested. Please consider using SQLAlchemy.\n",
            "  df_6_5 = pd.read_sql_query(query_6_5, connection);\n"
          ]
        },
        {
          "data": {
            "text/html": [
              "<div>\n",
              "<style scoped>\n",
              "    .dataframe tbody tr th:only-of-type {\n",
              "        vertical-align: middle;\n",
              "    }\n",
              "\n",
              "    .dataframe tbody tr th {\n",
              "        vertical-align: top;\n",
              "    }\n",
              "\n",
              "    .dataframe thead th {\n",
              "        text-align: right;\n",
              "    }\n",
              "</style>\n",
              "<table border=\"1\" class=\"dataframe\">\n",
              "  <thead>\n",
              "    <tr style=\"text-align: right;\">\n",
              "      <th></th>\n",
              "      <th>avg</th>\n",
              "    </tr>\n",
              "  </thead>\n",
              "  <tbody>\n",
              "    <tr>\n",
              "      <th>0</th>\n",
              "      <td>6.41</td>\n",
              "    </tr>\n",
              "  </tbody>\n",
              "</table>\n",
              "</div>"
            ],
            "text/plain": [
              "    avg\n",
              "0  6.41"
            ]
          },
          "execution_count": 98,
          "metadata": {},
          "output_type": "execute_result"
        }
      ],
      "source": [
        "df_6_5 = pd.read_sql_query(query_6_5, connection);\n",
        "round(df_6_5,2)"
      ]
    },
    {
      "cell_type": "markdown",
      "id": "1041c17a-ca8f-4543-a0ca-32778914fb00",
      "metadata": {
        "id": "1041c17a-ca8f-4543-a0ca-32778914fb00"
      },
      "source": [
        "6. Напишите запрос, позволяющий вычислить, какую зарплату для DS в **среднем** указывают для каждого типа требуемого опыта (уникальное значение из поля *experience*). \n",
        "\n",
        "При решении задачи примите во внимание следующее:\n",
        "1. Рассматриваем только вакансии, у которых заполнено хотя бы одно из двух полей с зарплатой.\n",
        "2. Если заполнены оба поля с зарплатой, то считаем зарплату по каждой вакансии как сумму двух полей, делённую на 2. Если заполнено только одно из полей, то его и считаем зарплатой по вакансии.\n",
        "3. Если в расчётах участвует null, в результате он тоже даст null (посмотрите, что возвращает запрос select 1 + null). Чтобы избежать этой ситуацию, мы воспользуемся функцией [coalesce](https://postgrespro.ru/docs/postgresql/9.5/functions-conditional#functions-coalesce-nvl-ifnull), которая заменит null на значение, которое мы передадим. Например, посмотрите, что возвращает запрос `select 1 + coalesce(null, 0)`\n",
        "\n",
        "Выясните, на какую зарплату в среднем может рассчитывать дата-сайентист с опытом работы от 3 до 6 лет. Результат округлите до целого числа. "
      ]
    },
    {
      "cell_type": "code",
      "execution_count": 99,
      "id": "6a743d39-5204-48d3-8271-b9f88e68d40e",
      "metadata": {
        "id": "6a743d39-5204-48d3-8271-b9f88e68d40e"
      },
      "outputs": [],
      "source": [
        "# используем coalesce, если есть значение null, вернет int\n",
        "query_6_6 = f'''select\n",
        "                    distinct(v.experience),\n",
        "                    avg(coalesce((v.salary_to + v.salary_from)/2,\n",
        "                    (v.salary_from), (v.salary_to)))\n",
        "                from vacancies v\n",
        "                where (lower(v.name) like '%data%scientist%'\n",
        "                or lower(v.name) like '%data%science%'\n",
        "                or lower(v.name) like '%исследователь%данных%'\n",
        "                or (v.name like '%ML%'\n",
        "                    and v.name not like '%HTML%')\n",
        "                or lower(v.name) like '%machine%learning%'\n",
        "                or lower(v.name) like '%машинн%обучен%')\n",
        "                and (v.salary_to is not null\n",
        "                    or v.salary_from is not null)\n",
        "                group by 1\n",
        "                '''"
      ]
    },
    {
      "cell_type": "code",
      "execution_count": 100,
      "id": "aRIJ0mZEwU1_",
      "metadata": {
        "id": "aRIJ0mZEwU1_"
      },
      "outputs": [
        {
          "name": "stderr",
          "output_type": "stream",
          "text": [
            "C:\\Users\\vivec\\AppData\\Local\\Temp\\ipykernel_10332\\2417512424.py:1: UserWarning: pandas only supports SQLAlchemy connectable (engine/connection) or database string URI or sqlite3 DBAPI2 connection. Other DBAPI2 objects are not tested. Please consider using SQLAlchemy.\n",
            "  df_6_6 = pd.read_sql_query(query_6_6, connection);\n"
          ]
        },
        {
          "data": {
            "text/html": [
              "<div>\n",
              "<style scoped>\n",
              "    .dataframe tbody tr th:only-of-type {\n",
              "        vertical-align: middle;\n",
              "    }\n",
              "\n",
              "    .dataframe tbody tr th {\n",
              "        vertical-align: top;\n",
              "    }\n",
              "\n",
              "    .dataframe thead th {\n",
              "        text-align: right;\n",
              "    }\n",
              "</style>\n",
              "<table border=\"1\" class=\"dataframe\">\n",
              "  <thead>\n",
              "    <tr style=\"text-align: right;\">\n",
              "      <th></th>\n",
              "      <th>experience</th>\n",
              "      <th>avg</th>\n",
              "    </tr>\n",
              "  </thead>\n",
              "  <tbody>\n",
              "    <tr>\n",
              "      <th>0</th>\n",
              "      <td>Нет опыта</td>\n",
              "      <td>74643.0</td>\n",
              "    </tr>\n",
              "    <tr>\n",
              "      <th>1</th>\n",
              "      <td>От 1 года до 3 лет</td>\n",
              "      <td>139675.0</td>\n",
              "    </tr>\n",
              "    <tr>\n",
              "      <th>2</th>\n",
              "      <td>От 3 до 6 лет</td>\n",
              "      <td>243115.0</td>\n",
              "    </tr>\n",
              "  </tbody>\n",
              "</table>\n",
              "</div>"
            ],
            "text/plain": [
              "           experience       avg\n",
              "0           Нет опыта   74643.0\n",
              "1  От 1 года до 3 лет  139675.0\n",
              "2       От 3 до 6 лет  243115.0"
            ]
          },
          "execution_count": 100,
          "metadata": {},
          "output_type": "execute_result"
        }
      ],
      "source": [
        "df_6_6 = pd.read_sql_query(query_6_6, connection);\n",
        "round(df_6_6)"
      ]
    },
    {
      "cell_type": "markdown",
      "id": "6a7892b4-4113-4746-adce-18aa2844f18e",
      "metadata": {
        "id": "6a7892b4-4113-4746-adce-18aa2844f18e"
      },
      "source": [
        "***"
      ]
    },
    {
      "attachments": {},
      "cell_type": "markdown",
      "id": "84e53a9f",
      "metadata": {},
      "source": [
        "### 1. Выяснили, 1771 вакансий связаны с данными.\n",
        "### 2. Выяснили, есть 51 вакансий для junior специалиста в области Data Scientist.\n",
        "### 3. Выяснили, в 201 вакансии по DS ищут специалистов с основными навыками SQL или postgres.\n",
        "### 4. Выяснили, в 351 вакансии по DS ищут специалистов с основным навыком Pyrhon.\n",
        "### 5. Выяснили среднее значение (6.41) по количеству указанных навыков по DS.\n",
        "### 6. Выяснили среднюю ЗП по вакансиям DS от опыта работы (Нет опыт: 74643, От 1 до 3 лет: 139675, От 3 до 6 лет: 243115)"
      ]
    },
    {
      "cell_type": "markdown",
      "id": "c0ED6fh7wiBT",
      "metadata": {
        "id": "c0ED6fh7wiBT"
      },
      "source": [
        "# Общий вывод по проекту"
      ]
    },
    {
      "cell_type": "code",
      "execution_count": 101,
      "id": "efddeeed",
      "metadata": {},
      "outputs": [
        {
          "name": "stderr",
          "output_type": "stream",
          "text": [
            "C:\\Users\\vivec\\AppData\\Local\\Temp\\ipykernel_10332\\1070365431.py:28: UserWarning: pandas only supports SQLAlchemy connectable (engine/connection) or database string URI or sqlite3 DBAPI2 connection. Other DBAPI2 objects are not tested. Please consider using SQLAlchemy.\n",
            "  df_add = pd.read_sql_query(add_query, connection);\n"
          ]
        },
        {
          "data": {
            "text/html": [
              "<div>\n",
              "<style scoped>\n",
              "    .dataframe tbody tr th:only-of-type {\n",
              "        vertical-align: middle;\n",
              "    }\n",
              "\n",
              "    .dataframe tbody tr th {\n",
              "        vertical-align: top;\n",
              "    }\n",
              "\n",
              "    .dataframe thead th {\n",
              "        text-align: right;\n",
              "    }\n",
              "</style>\n",
              "<table border=\"1\" class=\"dataframe\">\n",
              "  <thead>\n",
              "    <tr style=\"text-align: right;\">\n",
              "      <th></th>\n",
              "      <th>area_name</th>\n",
              "      <th>employer_name</th>\n",
              "      <th>vacancie_name</th>\n",
              "      <th>avg_salary</th>\n",
              "      <th>cnt_vac</th>\n",
              "    </tr>\n",
              "  </thead>\n",
              "  <tbody>\n",
              "    <tr>\n",
              "      <th>0</th>\n",
              "      <td>Алматы</td>\n",
              "      <td>Kolesa Group</td>\n",
              "      <td>MLOps Backend-разработчик</td>\n",
              "      <td>122047.0</td>\n",
              "      <td>1</td>\n",
              "    </tr>\n",
              "    <tr>\n",
              "      <th>1</th>\n",
              "      <td>Алматы</td>\n",
              "      <td>Cybernet (Кибернет)</td>\n",
              "      <td>Специалист ML/DS</td>\n",
              "      <td>67126.0</td>\n",
              "      <td>1</td>\n",
              "    </tr>\n",
              "    <tr>\n",
              "      <th>2</th>\n",
              "      <td>Армения</td>\n",
              "      <td>Andersen</td>\n",
              "      <td>Machine Learning Engineer</td>\n",
              "      <td>292242.0</td>\n",
              "      <td>2</td>\n",
              "    </tr>\n",
              "    <tr>\n",
              "      <th>3</th>\n",
              "      <td>Армения</td>\n",
              "      <td>Andersen</td>\n",
              "      <td>Data Scientist (Machine Learning)</td>\n",
              "      <td>222104.0</td>\n",
              "      <td>1</td>\n",
              "    </tr>\n",
              "    <tr>\n",
              "      <th>4</th>\n",
              "      <td>Барнаул</td>\n",
              "      <td>Энтерра</td>\n",
              "      <td>C++ разработчик (QML)</td>\n",
              "      <td>60000.0</td>\n",
              "      <td>1</td>\n",
              "    </tr>\n",
              "    <tr>\n",
              "      <th>5</th>\n",
              "      <td>Белгород</td>\n",
              "      <td>Зеленая долина, ГК</td>\n",
              "      <td>Инженер по машинному обучению</td>\n",
              "      <td>200000.0</td>\n",
              "      <td>1</td>\n",
              "    </tr>\n",
              "    <tr>\n",
              "      <th>6</th>\n",
              "      <td>Владивосток</td>\n",
              "      <td>DNS Головной офис</td>\n",
              "      <td>Data Scientist (Computer Vision) / Middle</td>\n",
              "      <td>100000.0</td>\n",
              "      <td>1</td>\n",
              "    </tr>\n",
              "    <tr>\n",
              "      <th>7</th>\n",
              "      <td>Владивосток</td>\n",
              "      <td>DNS Головной офис</td>\n",
              "      <td>Data Scientist (Computer Vision) / Junior</td>\n",
              "      <td>70000.0</td>\n",
              "      <td>1</td>\n",
              "    </tr>\n",
              "    <tr>\n",
              "      <th>8</th>\n",
              "      <td>Екатеринбург</td>\n",
              "      <td>Сима-ленд</td>\n",
              "      <td>Data science инженер</td>\n",
              "      <td>225000.0</td>\n",
              "      <td>1</td>\n",
              "    </tr>\n",
              "    <tr>\n",
              "      <th>9</th>\n",
              "      <td>Екатеринбург</td>\n",
              "      <td>Сталепромышленная компания</td>\n",
              "      <td>Специалист Data Science (R)</td>\n",
              "      <td>110000.0</td>\n",
              "      <td>1</td>\n",
              "    </tr>\n",
              "    <tr>\n",
              "      <th>10</th>\n",
              "      <td>Екатеринбург</td>\n",
              "      <td>КБ Уральский банк реконструкции и развития (УБ...</td>\n",
              "      <td>Junior Data Scientist (Стажер)</td>\n",
              "      <td>37000.0</td>\n",
              "      <td>1</td>\n",
              "    </tr>\n",
              "    <tr>\n",
              "      <th>11</th>\n",
              "      <td>Казань</td>\n",
              "      <td>Ранкс</td>\n",
              "      <td>Data scientist</td>\n",
              "      <td>50000.0</td>\n",
              "      <td>1</td>\n",
              "    </tr>\n",
              "    <tr>\n",
              "      <th>12</th>\n",
              "      <td>Кипр</td>\n",
              "      <td>Semrush</td>\n",
              "      <td>Senior Data Analyst / Senior Data Scientist (A...</td>\n",
              "      <td>300000.0</td>\n",
              "      <td>1</td>\n",
              "    </tr>\n",
              "    <tr>\n",
              "      <th>13</th>\n",
              "      <td>Королев</td>\n",
              "      <td>РКК Энергия</td>\n",
              "      <td>Data Scientist / Data Analyst в области иннова...</td>\n",
              "      <td>130000.0</td>\n",
              "      <td>1</td>\n",
              "    </tr>\n",
              "    <tr>\n",
              "      <th>14</th>\n",
              "      <td>Москва</td>\n",
              "      <td>Итон</td>\n",
              "      <td>ML Engineer \\ Data scientist</td>\n",
              "      <td>450000.0</td>\n",
              "      <td>1</td>\n",
              "    </tr>\n",
              "    <tr>\n",
              "      <th>15</th>\n",
              "      <td>Москва</td>\n",
              "      <td>AppQuantum</td>\n",
              "      <td>ML &amp; Advanced analytics Lead / Lead Data Scien...</td>\n",
              "      <td>350000.0</td>\n",
              "      <td>1</td>\n",
              "    </tr>\n",
              "    <tr>\n",
              "      <th>16</th>\n",
              "      <td>Москва</td>\n",
              "      <td>JSA Group</td>\n",
              "      <td>Senior Data Scientist</td>\n",
              "      <td>300000.0</td>\n",
              "      <td>1</td>\n",
              "    </tr>\n",
              "    <tr>\n",
              "      <th>17</th>\n",
              "      <td>Москва</td>\n",
              "      <td>СберЛизинг</td>\n",
              "      <td>Руководитель направления Data Science</td>\n",
              "      <td>300000.0</td>\n",
              "      <td>1</td>\n",
              "    </tr>\n",
              "    <tr>\n",
              "      <th>18</th>\n",
              "      <td>Москва</td>\n",
              "      <td>Dbrain</td>\n",
              "      <td>ML engineer</td>\n",
              "      <td>275000.0</td>\n",
              "      <td>1</td>\n",
              "    </tr>\n",
              "    <tr>\n",
              "      <th>19</th>\n",
              "      <td>Москва</td>\n",
              "      <td>КИБЕР-РОМ</td>\n",
              "      <td>Data scientist</td>\n",
              "      <td>275000.0</td>\n",
              "      <td>1</td>\n",
              "    </tr>\n",
              "    <tr>\n",
              "      <th>20</th>\n",
              "      <td>Москва</td>\n",
              "      <td>Кловер Групп</td>\n",
              "      <td>Data Scientist</td>\n",
              "      <td>275000.0</td>\n",
              "      <td>1</td>\n",
              "    </tr>\n",
              "    <tr>\n",
              "      <th>21</th>\n",
              "      <td>Москва</td>\n",
              "      <td>Freedom International Group</td>\n",
              "      <td>ML Engineer</td>\n",
              "      <td>250000.0</td>\n",
              "      <td>1</td>\n",
              "    </tr>\n",
              "    <tr>\n",
              "      <th>22</th>\n",
              "      <td>Москва</td>\n",
              "      <td>Spice Agency</td>\n",
              "      <td>Data scientist/Analyst</td>\n",
              "      <td>250000.0</td>\n",
              "      <td>1</td>\n",
              "    </tr>\n",
              "    <tr>\n",
              "      <th>23</th>\n",
              "      <td>Москва</td>\n",
              "      <td>Bip.ru</td>\n",
              "      <td>Data scientist / Product analyst</td>\n",
              "      <td>225000.0</td>\n",
              "      <td>1</td>\n",
              "    </tr>\n",
              "    <tr>\n",
              "      <th>24</th>\n",
              "      <td>Москва</td>\n",
              "      <td>АЙТИ.СПЕЙС</td>\n",
              "      <td>Data Scientist</td>\n",
              "      <td>225000.0</td>\n",
              "      <td>1</td>\n",
              "    </tr>\n",
              "    <tr>\n",
              "      <th>25</th>\n",
              "      <td>Москва</td>\n",
              "      <td>Телега</td>\n",
              "      <td>Middle Data Scientist</td>\n",
              "      <td>225000.0</td>\n",
              "      <td>1</td>\n",
              "    </tr>\n",
              "    <tr>\n",
              "      <th>26</th>\n",
              "      <td>Москва</td>\n",
              "      <td>DIGINETICA</td>\n",
              "      <td>Data Scientist/ML Engineer (Middle+)</td>\n",
              "      <td>205000.0</td>\n",
              "      <td>1</td>\n",
              "    </tr>\n",
              "    <tr>\n",
              "      <th>27</th>\n",
              "      <td>Москва</td>\n",
              "      <td>JuicyScore</td>\n",
              "      <td>Middle/Senior Data Scientist</td>\n",
              "      <td>200000.0</td>\n",
              "      <td>1</td>\n",
              "    </tr>\n",
              "    <tr>\n",
              "      <th>28</th>\n",
              "      <td>Москва</td>\n",
              "      <td>Алгоритмические Системы</td>\n",
              "      <td>NLP Machine Learning Engineer Python</td>\n",
              "      <td>200000.0</td>\n",
              "      <td>1</td>\n",
              "    </tr>\n",
              "    <tr>\n",
              "      <th>29</th>\n",
              "      <td>Москва</td>\n",
              "      <td>УЦ Новый шаг</td>\n",
              "      <td>Machine Learning Developer</td>\n",
              "      <td>200000.0</td>\n",
              "      <td>1</td>\n",
              "    </tr>\n",
              "    <tr>\n",
              "      <th>30</th>\n",
              "      <td>Москва</td>\n",
              "      <td>Центр хранения и анализа больших данных</td>\n",
              "      <td>Middle ML / Data Science разработчик</td>\n",
              "      <td>170000.0</td>\n",
              "      <td>1</td>\n",
              "    </tr>\n",
              "    <tr>\n",
              "      <th>31</th>\n",
              "      <td>Москва</td>\n",
              "      <td>Интеллектуальные решения</td>\n",
              "      <td>Аналитик данных (Data Scientist)</td>\n",
              "      <td>150000.0</td>\n",
              "      <td>1</td>\n",
              "    </tr>\n",
              "    <tr>\n",
              "      <th>32</th>\n",
              "      <td>Москва</td>\n",
              "      <td>НСК ЭкоСфера</td>\n",
              "      <td>Deep Learning/Machine Learning NLP Engineer</td>\n",
              "      <td>150000.0</td>\n",
              "      <td>2</td>\n",
              "    </tr>\n",
              "    <tr>\n",
              "      <th>33</th>\n",
              "      <td>Москва</td>\n",
              "      <td>РТК Автоматика</td>\n",
              "      <td>Data scientist / Исследователь-программист данных</td>\n",
              "      <td>143500.0</td>\n",
              "      <td>1</td>\n",
              "    </tr>\n",
              "    <tr>\n",
              "      <th>34</th>\n",
              "      <td>Москва</td>\n",
              "      <td>Азимут Технолоджи</td>\n",
              "      <td>Data Scientist/BackEnd (Python)</td>\n",
              "      <td>140000.0</td>\n",
              "      <td>1</td>\n",
              "    </tr>\n",
              "    <tr>\n",
              "      <th>35</th>\n",
              "      <td>Москва</td>\n",
              "      <td>РКК Энергия</td>\n",
              "      <td>Data Scientist / Data Analyst в области иннова...</td>\n",
              "      <td>130000.0</td>\n",
              "      <td>1</td>\n",
              "    </tr>\n",
              "    <tr>\n",
              "      <th>36</th>\n",
              "      <td>Москва</td>\n",
              "      <td>Лидстех</td>\n",
              "      <td>Data Science / Data Analyst</td>\n",
              "      <td>120000.0</td>\n",
              "      <td>1</td>\n",
              "    </tr>\n",
              "    <tr>\n",
              "      <th>37</th>\n",
              "      <td>Москва</td>\n",
              "      <td>ВижнЛабс (VisionLabs)</td>\n",
              "      <td>Исследователь алгоритмов машинного обучения / ...</td>\n",
              "      <td>100000.0</td>\n",
              "      <td>1</td>\n",
              "    </tr>\n",
              "    <tr>\n",
              "      <th>38</th>\n",
              "      <td>Москва</td>\n",
              "      <td>Cpaaggregator.com</td>\n",
              "      <td>ML разработчик (удалённо)</td>\n",
              "      <td>75000.0</td>\n",
              "      <td>1</td>\n",
              "    </tr>\n",
              "    <tr>\n",
              "      <th>39</th>\n",
              "      <td>Москва</td>\n",
              "      <td>Строительный Двор</td>\n",
              "      <td>Data Scientist (Junior)</td>\n",
              "      <td>72500.0</td>\n",
              "      <td>1</td>\n",
              "    </tr>\n",
              "    <tr>\n",
              "      <th>40</th>\n",
              "      <td>Новосибирск</td>\n",
              "      <td>Дром</td>\n",
              "      <td>Lead data scientist</td>\n",
              "      <td>300000.0</td>\n",
              "      <td>1</td>\n",
              "    </tr>\n",
              "    <tr>\n",
              "      <th>41</th>\n",
              "      <td>Новосибирск</td>\n",
              "      <td>Igor Polyakov Consulting</td>\n",
              "      <td>Data Scientist/Математик</td>\n",
              "      <td>119000.0</td>\n",
              "      <td>1</td>\n",
              "    </tr>\n",
              "    <tr>\n",
              "      <th>42</th>\n",
              "      <td>Новосибирск</td>\n",
              "      <td>Апэрбот</td>\n",
              "      <td>Программист Python/ Data Scientist (junior / m...</td>\n",
              "      <td>80000.0</td>\n",
              "      <td>1</td>\n",
              "    </tr>\n",
              "    <tr>\n",
              "      <th>43</th>\n",
              "      <td>Пермь</td>\n",
              "      <td>Homework</td>\n",
              "      <td>Автор работ по машинному обучению</td>\n",
              "      <td>90000.0</td>\n",
              "      <td>1</td>\n",
              "    </tr>\n",
              "    <tr>\n",
              "      <th>44</th>\n",
              "      <td>Пермь</td>\n",
              "      <td>Випакс+</td>\n",
              "      <td>Data Scientist (Junior+)</td>\n",
              "      <td>60000.0</td>\n",
              "      <td>1</td>\n",
              "    </tr>\n",
              "    <tr>\n",
              "      <th>45</th>\n",
              "      <td>Ростов-на-Дону</td>\n",
              "      <td>Theyr Ltd</td>\n",
              "      <td>Junior Data Scientist</td>\n",
              "      <td>50000.0</td>\n",
              "      <td>1</td>\n",
              "    </tr>\n",
              "    <tr>\n",
              "      <th>46</th>\n",
              "      <td>Рязань</td>\n",
              "      <td>MNOGOGAMES</td>\n",
              "      <td>Аналитик данных / Data scientist</td>\n",
              "      <td>155000.0</td>\n",
              "      <td>1</td>\n",
              "    </tr>\n",
              "    <tr>\n",
              "      <th>47</th>\n",
              "      <td>Рязань</td>\n",
              "      <td>Программный регион</td>\n",
              "      <td>Leader of ML Engineering Team</td>\n",
              "      <td>150000.0</td>\n",
              "      <td>1</td>\n",
              "    </tr>\n",
              "    <tr>\n",
              "      <th>48</th>\n",
              "      <td>Рязань</td>\n",
              "      <td>Программный регион</td>\n",
              "      <td>Разработчик Golang/Python в команду аналитики ...</td>\n",
              "      <td>105000.0</td>\n",
              "      <td>1</td>\n",
              "    </tr>\n",
              "    <tr>\n",
              "      <th>49</th>\n",
              "      <td>Санкт-Петербург</td>\n",
              "      <td>JSA Group</td>\n",
              "      <td>Senior Data Scientist</td>\n",
              "      <td>300000.0</td>\n",
              "      <td>1</td>\n",
              "    </tr>\n",
              "    <tr>\n",
              "      <th>50</th>\n",
              "      <td>Санкт-Петербург</td>\n",
              "      <td>OVISION</td>\n",
              "      <td>Data Scientist</td>\n",
              "      <td>300000.0</td>\n",
              "      <td>1</td>\n",
              "    </tr>\n",
              "    <tr>\n",
              "      <th>51</th>\n",
              "      <td>Санкт-Петербург</td>\n",
              "      <td>Hype Auditor</td>\n",
              "      <td>Machine Learning Engineer</td>\n",
              "      <td>175346.0</td>\n",
              "      <td>1</td>\n",
              "    </tr>\n",
              "    <tr>\n",
              "      <th>52</th>\n",
              "      <td>Санкт-Петербург</td>\n",
              "      <td>НИИАС</td>\n",
              "      <td>Middle/Senior ML Specialist</td>\n",
              "      <td>175000.0</td>\n",
              "      <td>1</td>\n",
              "    </tr>\n",
              "    <tr>\n",
              "      <th>53</th>\n",
              "      <td>Санкт-Петербург</td>\n",
              "      <td>Университет ИТМО</td>\n",
              "      <td>Исследователь в области машинного обучения и м...</td>\n",
              "      <td>115000.0</td>\n",
              "      <td>1</td>\n",
              "    </tr>\n",
              "    <tr>\n",
              "      <th>54</th>\n",
              "      <td>Санкт-Петербург</td>\n",
              "      <td>ННФормат</td>\n",
              "      <td>Математик-аналитик (data scientist / data anal...</td>\n",
              "      <td>98000.0</td>\n",
              "      <td>1</td>\n",
              "    </tr>\n",
              "    <tr>\n",
              "      <th>55</th>\n",
              "      <td>Санкт-Петербург</td>\n",
              "      <td>Улыбка радуги</td>\n",
              "      <td>Junior Data Scientist</td>\n",
              "      <td>50000.0</td>\n",
              "      <td>1</td>\n",
              "    </tr>\n",
              "    <tr>\n",
              "      <th>56</th>\n",
              "      <td>Сербия</td>\n",
              "      <td>IntelligiChain</td>\n",
              "      <td>C++ Machine Learning Engineer (Computer Vision)</td>\n",
              "      <td>233794.0</td>\n",
              "      <td>1</td>\n",
              "    </tr>\n",
              "    <tr>\n",
              "      <th>57</th>\n",
              "      <td>Турция</td>\n",
              "      <td>IntelligiChain</td>\n",
              "      <td>C++ Machine Learning Engineer (Computer Vision)</td>\n",
              "      <td>233794.0</td>\n",
              "      <td>1</td>\n",
              "    </tr>\n",
              "    <tr>\n",
              "      <th>58</th>\n",
              "      <td>Уфа</td>\n",
              "      <td>Homework</td>\n",
              "      <td>Автор работ по машинному обучению</td>\n",
              "      <td>90000.0</td>\n",
              "      <td>1</td>\n",
              "    </tr>\n",
              "    <tr>\n",
              "      <th>59</th>\n",
              "      <td>Черногория</td>\n",
              "      <td>IntelligiChain</td>\n",
              "      <td>C++ Machine Learning Engineer (Computer Vision)</td>\n",
              "      <td>233794.0</td>\n",
              "      <td>1</td>\n",
              "    </tr>\n",
              "  </tbody>\n",
              "</table>\n",
              "</div>"
            ],
            "text/plain": [
              "          area_name                                      employer_name  \\\n",
              "0            Алматы                                       Kolesa Group   \n",
              "1            Алматы                                Cybernet (Кибернет)   \n",
              "2           Армения                                           Andersen   \n",
              "3           Армения                                           Andersen   \n",
              "4           Барнаул                                            Энтерра   \n",
              "5          Белгород                                 Зеленая долина, ГК   \n",
              "6       Владивосток                                  DNS Головной офис   \n",
              "7       Владивосток                                  DNS Головной офис   \n",
              "8      Екатеринбург                                          Сима-ленд   \n",
              "9      Екатеринбург                         Сталепромышленная компания   \n",
              "10     Екатеринбург  КБ Уральский банк реконструкции и развития (УБ...   \n",
              "11           Казань                                              Ранкс   \n",
              "12             Кипр                                            Semrush   \n",
              "13          Королев                                        РКК Энергия   \n",
              "14           Москва                                               Итон   \n",
              "15           Москва                                         AppQuantum   \n",
              "16           Москва                                          JSA Group   \n",
              "17           Москва                                         СберЛизинг   \n",
              "18           Москва                                             Dbrain   \n",
              "19           Москва                                          КИБЕР-РОМ   \n",
              "20           Москва                                       Кловер Групп   \n",
              "21           Москва                        Freedom International Group   \n",
              "22           Москва                                       Spice Agency   \n",
              "23           Москва                                             Bip.ru   \n",
              "24           Москва                                         АЙТИ.СПЕЙС   \n",
              "25           Москва                                             Телега   \n",
              "26           Москва                                         DIGINETICA   \n",
              "27           Москва                                         JuicyScore   \n",
              "28           Москва                            Алгоритмические Системы   \n",
              "29           Москва                                       УЦ Новый шаг   \n",
              "30           Москва            Центр хранения и анализа больших данных   \n",
              "31           Москва                           Интеллектуальные решения   \n",
              "32           Москва                                       НСК ЭкоСфера   \n",
              "33           Москва                                     РТК Автоматика   \n",
              "34           Москва                                  Азимут Технолоджи   \n",
              "35           Москва                                        РКК Энергия   \n",
              "36           Москва                                            Лидстех   \n",
              "37           Москва                              ВижнЛабс (VisionLabs)   \n",
              "38           Москва                                  Cpaaggregator.com   \n",
              "39           Москва                                  Строительный Двор   \n",
              "40      Новосибирск                                               Дром   \n",
              "41      Новосибирск                           Igor Polyakov Consulting   \n",
              "42      Новосибирск                                            Апэрбот   \n",
              "43            Пермь                                           Homework   \n",
              "44            Пермь                                            Випакс+   \n",
              "45   Ростов-на-Дону                                          Theyr Ltd   \n",
              "46           Рязань                                         MNOGOGAMES   \n",
              "47           Рязань                                 Программный регион   \n",
              "48           Рязань                                 Программный регион   \n",
              "49  Санкт-Петербург                                          JSA Group   \n",
              "50  Санкт-Петербург                                            OVISION   \n",
              "51  Санкт-Петербург                                       Hype Auditor   \n",
              "52  Санкт-Петербург                                              НИИАС   \n",
              "53  Санкт-Петербург                                   Университет ИТМО   \n",
              "54  Санкт-Петербург                                           ННФормат   \n",
              "55  Санкт-Петербург                                      Улыбка радуги   \n",
              "56           Сербия                                     IntelligiChain   \n",
              "57           Турция                                     IntelligiChain   \n",
              "58              Уфа                                           Homework   \n",
              "59       Черногория                                     IntelligiChain   \n",
              "\n",
              "                                        vacancie_name  avg_salary  cnt_vac  \n",
              "0                           MLOps Backend-разработчик    122047.0        1  \n",
              "1                                    Специалист ML/DS     67126.0        1  \n",
              "2                           Machine Learning Engineer    292242.0        2  \n",
              "3                   Data Scientist (Machine Learning)    222104.0        1  \n",
              "4                               C++ разработчик (QML)     60000.0        1  \n",
              "5                       Инженер по машинному обучению    200000.0        1  \n",
              "6           Data Scientist (Computer Vision) / Middle    100000.0        1  \n",
              "7           Data Scientist (Computer Vision) / Junior     70000.0        1  \n",
              "8                                Data science инженер    225000.0        1  \n",
              "9                         Специалист Data Science (R)    110000.0        1  \n",
              "10                     Junior Data Scientist (Стажер)     37000.0        1  \n",
              "11                                     Data scientist     50000.0        1  \n",
              "12  Senior Data Analyst / Senior Data Scientist (A...    300000.0        1  \n",
              "13  Data Scientist / Data Analyst в области иннова...    130000.0        1  \n",
              "14                       ML Engineer \\ Data scientist    450000.0        1  \n",
              "15  ML & Advanced analytics Lead / Lead Data Scien...    350000.0        1  \n",
              "16                              Senior Data Scientist    300000.0        1  \n",
              "17              Руководитель направления Data Science    300000.0        1  \n",
              "18                                        ML engineer    275000.0        1  \n",
              "19                                     Data scientist    275000.0        1  \n",
              "20                                     Data Scientist    275000.0        1  \n",
              "21                                        ML Engineer    250000.0        1  \n",
              "22                             Data scientist/Analyst    250000.0        1  \n",
              "23                   Data scientist / Product analyst    225000.0        1  \n",
              "24                                     Data Scientist    225000.0        1  \n",
              "25                              Middle Data Scientist    225000.0        1  \n",
              "26               Data Scientist/ML Engineer (Middle+)    205000.0        1  \n",
              "27                       Middle/Senior Data Scientist    200000.0        1  \n",
              "28               NLP Machine Learning Engineer Python    200000.0        1  \n",
              "29                         Machine Learning Developer    200000.0        1  \n",
              "30               Middle ML / Data Science разработчик    170000.0        1  \n",
              "31                   Аналитик данных (Data Scientist)    150000.0        1  \n",
              "32        Deep Learning/Machine Learning NLP Engineer    150000.0        2  \n",
              "33  Data scientist / Исследователь-программист данных    143500.0        1  \n",
              "34                    Data Scientist/BackEnd (Python)    140000.0        1  \n",
              "35  Data Scientist / Data Analyst в области иннова...    130000.0        1  \n",
              "36                        Data Science / Data Analyst    120000.0        1  \n",
              "37  Исследователь алгоритмов машинного обучения / ...    100000.0        1  \n",
              "38                          ML разработчик (удалённо)     75000.0        1  \n",
              "39                            Data Scientist (Junior)     72500.0        1  \n",
              "40                                Lead data scientist    300000.0        1  \n",
              "41                           Data Scientist/Математик    119000.0        1  \n",
              "42  Программист Python/ Data Scientist (junior / m...     80000.0        1  \n",
              "43                  Автор работ по машинному обучению     90000.0        1  \n",
              "44                           Data Scientist (Junior+)     60000.0        1  \n",
              "45                              Junior Data Scientist     50000.0        1  \n",
              "46                   Аналитик данных / Data scientist    155000.0        1  \n",
              "47                      Leader of ML Engineering Team    150000.0        1  \n",
              "48  Разработчик Golang/Python в команду аналитики ...    105000.0        1  \n",
              "49                              Senior Data Scientist    300000.0        1  \n",
              "50                                     Data Scientist    300000.0        1  \n",
              "51                          Machine Learning Engineer    175346.0        1  \n",
              "52                        Middle/Senior ML Specialist    175000.0        1  \n",
              "53  Исследователь в области машинного обучения и м...    115000.0        1  \n",
              "54  Математик-аналитик (data scientist / data anal...     98000.0        1  \n",
              "55                              Junior Data Scientist     50000.0        1  \n",
              "56    C++ Machine Learning Engineer (Computer Vision)    233794.0        1  \n",
              "57    C++ Machine Learning Engineer (Computer Vision)    233794.0        1  \n",
              "58                  Автор работ по машинному обучению     90000.0        1  \n",
              "59    C++ Machine Learning Engineer (Computer Vision)    233794.0        1  "
            ]
          },
          "execution_count": 101,
          "metadata": {},
          "output_type": "execute_result"
        }
      ],
      "source": [
        "add_query = f'''select\n",
        "                    distinct(a.name) as area_name,\n",
        "                    e.name as employer_name,\n",
        "                    v.name vacancie_name,\n",
        "                    avg(\n",
        "                        coalesce(\n",
        "                            (v.salary_from + v.salary_to)/2,\n",
        "                            (v.salary_from),\n",
        "                            (v.salary_to)\n",
        "                            )\n",
        "                            ) as avg_salary,\n",
        "                    count(v.name) as cnt_vac\n",
        "                from vacancies as v\n",
        "                    left join areas as a on a.id = v.area_id\n",
        "                    left join employers as e on e.id = v.employer_id\n",
        "                group by 1, 2, 3, v.salary_from, v.salary_to\n",
        "                having (lower(v.name) like '%data%scientist%'\n",
        "                or lower(v.name) like '%data%science%'\n",
        "                or lower(v.name) like '%исследователь%данных%'\n",
        "                or (v.name like '%ML%'\n",
        "                    and v.name not like '%HTML%')\n",
        "                or lower(v.name) like '%machine%learning%'\n",
        "                or lower(v.name) like '%машинн%обучен%')\n",
        "                and (v.salary_from is not null\n",
        "                    or v.salary_to is not null)\n",
        "                order by 1, avg_salary desc\n",
        "                '''\n",
        "df_add = pd.read_sql_query(add_query, connection);\n",
        "df_add"
      ]
    },
    {
      "cell_type": "code",
      "execution_count": 102,
      "id": "220c677b",
      "metadata": {},
      "outputs": [
        {
          "name": "stderr",
          "output_type": "stream",
          "text": [
            "C:\\Users\\vivec\\AppData\\Local\\Temp\\ipykernel_10332\\1888952356.py:14: UserWarning: pandas only supports SQLAlchemy connectable (engine/connection) or database string URI or sqlite3 DBAPI2 connection. Other DBAPI2 objects are not tested. Please consider using SQLAlchemy.\n",
            "  df_add_1 = pd.read_sql_query(add_query_1, connection);\n"
          ]
        },
        {
          "data": {
            "text/html": [
              "<div>\n",
              "<style scoped>\n",
              "    .dataframe tbody tr th:only-of-type {\n",
              "        vertical-align: middle;\n",
              "    }\n",
              "\n",
              "    .dataframe tbody tr th {\n",
              "        vertical-align: top;\n",
              "    }\n",
              "\n",
              "    .dataframe thead th {\n",
              "        text-align: right;\n",
              "    }\n",
              "</style>\n",
              "<table border=\"1\" class=\"dataframe\">\n",
              "  <thead>\n",
              "    <tr style=\"text-align: right;\">\n",
              "      <th></th>\n",
              "      <th>area_name</th>\n",
              "      <th>vac_name</th>\n",
              "      <th>count</th>\n",
              "    </tr>\n",
              "  </thead>\n",
              "  <tbody>\n",
              "    <tr>\n",
              "      <th>0</th>\n",
              "      <td>Москва</td>\n",
              "      <td>Аналитик данных</td>\n",
              "      <td>41</td>\n",
              "    </tr>\n",
              "    <tr>\n",
              "      <th>1</th>\n",
              "      <td>Москва</td>\n",
              "      <td>Data Scientist</td>\n",
              "      <td>28</td>\n",
              "    </tr>\n",
              "    <tr>\n",
              "      <th>2</th>\n",
              "      <td>Москва</td>\n",
              "      <td>Data Engineer</td>\n",
              "      <td>18</td>\n",
              "    </tr>\n",
              "    <tr>\n",
              "      <th>3</th>\n",
              "      <td>Москва</td>\n",
              "      <td>Data Analyst</td>\n",
              "      <td>14</td>\n",
              "    </tr>\n",
              "    <tr>\n",
              "      <th>4</th>\n",
              "      <td>Санкт-Петербург</td>\n",
              "      <td>Data Analyst</td>\n",
              "      <td>11</td>\n",
              "    </tr>\n",
              "    <tr>\n",
              "      <th>...</th>\n",
              "      <td>...</td>\n",
              "      <td>...</td>\n",
              "      <td>...</td>\n",
              "    </tr>\n",
              "    <tr>\n",
              "      <th>1422</th>\n",
              "      <td>Ялта</td>\n",
              "      <td>Инженер сети передачи данных</td>\n",
              "      <td>1</td>\n",
              "    </tr>\n",
              "    <tr>\n",
              "      <th>1423</th>\n",
              "      <td>Ярославль</td>\n",
              "      <td>Аналитик данных (sql, excel)</td>\n",
              "      <td>1</td>\n",
              "    </tr>\n",
              "    <tr>\n",
              "      <th>1424</th>\n",
              "      <td>Ярославль</td>\n",
              "      <td>Ведущий аналитик данных</td>\n",
              "      <td>1</td>\n",
              "    </tr>\n",
              "    <tr>\n",
              "      <th>1425</th>\n",
              "      <td>Ярославль</td>\n",
              "      <td>Инженер группы передачи данных</td>\n",
              "      <td>1</td>\n",
              "    </tr>\n",
              "    <tr>\n",
              "      <th>1426</th>\n",
              "      <td>Ярославль</td>\n",
              "      <td>Старший администратор баз данных</td>\n",
              "      <td>1</td>\n",
              "    </tr>\n",
              "  </tbody>\n",
              "</table>\n",
              "<p>1427 rows × 3 columns</p>\n",
              "</div>"
            ],
            "text/plain": [
              "            area_name                          vac_name  count\n",
              "0              Москва                   Аналитик данных     41\n",
              "1              Москва                    Data Scientist     28\n",
              "2              Москва                     Data Engineer     18\n",
              "3              Москва                      Data Analyst     14\n",
              "4     Санкт-Петербург                      Data Analyst     11\n",
              "...               ...                               ...    ...\n",
              "1422             Ялта      Инженер сети передачи данных      1\n",
              "1423        Ярославль      Аналитик данных (sql, excel)      1\n",
              "1424        Ярославль           Ведущий аналитик данных      1\n",
              "1425        Ярославль    Инженер группы передачи данных      1\n",
              "1426        Ярославль  Старший администратор баз данных      1\n",
              "\n",
              "[1427 rows x 3 columns]"
            ]
          },
          "execution_count": 102,
          "metadata": {},
          "output_type": "execute_result"
        }
      ],
      "source": [
        "add_query_1 = (\n",
        "                f'''select\n",
        "                    a.name as area_name,\n",
        "                    v.name as vac_name,\n",
        "                    count(v.id)\n",
        "                from vacancies as v \n",
        "                    join areas as a on a.id = v.area_id\n",
        "                group by 1, 2\n",
        "                having lower(v.name) like '%данн%'\n",
        "                    or lower(v.name) like '%data%'\n",
        "                order by 3 desc, 1\n",
        "                '''\n",
        "                )\n",
        "df_add_1 = pd.read_sql_query(add_query_1, connection);\n",
        "df_add_1"
      ]
    },
    {
      "cell_type": "code",
      "execution_count": 103,
      "id": "9e842cb1",
      "metadata": {},
      "outputs": [
        {
          "name": "stderr",
          "output_type": "stream",
          "text": [
            "C:\\Users\\vivec\\AppData\\Local\\Temp\\ipykernel_10332\\777482712.py:11: UserWarning: pandas only supports SQLAlchemy connectable (engine/connection) or database string URI or sqlite3 DBAPI2 connection. Other DBAPI2 objects are not tested. Please consider using SQLAlchemy.\n",
            "  df_add_2 = pd.read_sql_query(add_query_2, connection);\n"
          ]
        },
        {
          "data": {
            "text/html": [
              "<div>\n",
              "<style scoped>\n",
              "    .dataframe tbody tr th:only-of-type {\n",
              "        vertical-align: middle;\n",
              "    }\n",
              "\n",
              "    .dataframe tbody tr th {\n",
              "        vertical-align: top;\n",
              "    }\n",
              "\n",
              "    .dataframe thead th {\n",
              "        text-align: right;\n",
              "    }\n",
              "</style>\n",
              "<table border=\"1\" class=\"dataframe\">\n",
              "  <thead>\n",
              "    <tr style=\"text-align: right;\">\n",
              "      <th></th>\n",
              "      <th>name</th>\n",
              "      <th>count</th>\n",
              "    </tr>\n",
              "  </thead>\n",
              "  <tbody>\n",
              "    <tr>\n",
              "      <th>0</th>\n",
              "      <td>Системный администратор</td>\n",
              "      <td>1761</td>\n",
              "    </tr>\n",
              "    <tr>\n",
              "      <th>1</th>\n",
              "      <td>Программист 1С</td>\n",
              "      <td>1153</td>\n",
              "    </tr>\n",
              "    <tr>\n",
              "      <th>2</th>\n",
              "      <td>Бизнес-аналитик</td>\n",
              "      <td>488</td>\n",
              "    </tr>\n",
              "    <tr>\n",
              "      <th>3</th>\n",
              "      <td>Специалист технической поддержки</td>\n",
              "      <td>457</td>\n",
              "    </tr>\n",
              "    <tr>\n",
              "      <th>4</th>\n",
              "      <td>Системный аналитик</td>\n",
              "      <td>432</td>\n",
              "    </tr>\n",
              "    <tr>\n",
              "      <th>5</th>\n",
              "      <td>Аналитик</td>\n",
              "      <td>404</td>\n",
              "    </tr>\n",
              "    <tr>\n",
              "      <th>6</th>\n",
              "      <td>Инженер-программист</td>\n",
              "      <td>389</td>\n",
              "    </tr>\n",
              "    <tr>\n",
              "      <th>7</th>\n",
              "      <td>Программист 1C</td>\n",
              "      <td>360</td>\n",
              "    </tr>\n",
              "    <tr>\n",
              "      <th>8</th>\n",
              "      <td>Frontend-разработчик</td>\n",
              "      <td>242</td>\n",
              "    </tr>\n",
              "    <tr>\n",
              "      <th>9</th>\n",
              "      <td>Инженер технической поддержки</td>\n",
              "      <td>230</td>\n",
              "    </tr>\n",
              "    <tr>\n",
              "      <th>10</th>\n",
              "      <td>Программист</td>\n",
              "      <td>224</td>\n",
              "    </tr>\n",
              "    <tr>\n",
              "      <th>11</th>\n",
              "      <td>Руководитель проекта</td>\n",
              "      <td>191</td>\n",
              "    </tr>\n",
              "    <tr>\n",
              "      <th>12</th>\n",
              "      <td>Младший специалист ручного тестирования</td>\n",
              "      <td>169</td>\n",
              "    </tr>\n",
              "    <tr>\n",
              "      <th>13</th>\n",
              "      <td>Специалист службы поддержки в Яндекс Бизнес</td>\n",
              "      <td>168</td>\n",
              "    </tr>\n",
              "    <tr>\n",
              "      <th>14</th>\n",
              "      <td>Менеджер проектов</td>\n",
              "      <td>153</td>\n",
              "    </tr>\n",
              "    <tr>\n",
              "      <th>15</th>\n",
              "      <td>Java-разработчик</td>\n",
              "      <td>150</td>\n",
              "    </tr>\n",
              "    <tr>\n",
              "      <th>16</th>\n",
              "      <td>Специалист по информационной безопасности</td>\n",
              "      <td>148</td>\n",
              "    </tr>\n",
              "    <tr>\n",
              "      <th>17</th>\n",
              "      <td>Специалист службы поддержки Рекламной сети Янд...</td>\n",
              "      <td>139</td>\n",
              "    </tr>\n",
              "    <tr>\n",
              "      <th>18</th>\n",
              "      <td>PHP-разработчик</td>\n",
              "      <td>135</td>\n",
              "    </tr>\n",
              "    <tr>\n",
              "      <th>19</th>\n",
              "      <td>Специалист службы поддержки пользователей</td>\n",
              "      <td>126</td>\n",
              "    </tr>\n",
              "    <tr>\n",
              "      <th>20</th>\n",
              "      <td>Компьютерный мастер</td>\n",
              "      <td>123</td>\n",
              "    </tr>\n",
              "    <tr>\n",
              "      <th>21</th>\n",
              "      <td>Менеджер проекта</td>\n",
              "      <td>120</td>\n",
              "    </tr>\n",
              "    <tr>\n",
              "      <th>22</th>\n",
              "      <td>Технический писатель</td>\n",
              "      <td>111</td>\n",
              "    </tr>\n",
              "    <tr>\n",
              "      <th>23</th>\n",
              "      <td>Маркетолог-аналитик</td>\n",
              "      <td>108</td>\n",
              "    </tr>\n",
              "    <tr>\n",
              "      <th>24</th>\n",
              "      <td>Руководитель проектов</td>\n",
              "      <td>106</td>\n",
              "    </tr>\n",
              "    <tr>\n",
              "      <th>25</th>\n",
              "      <td>Ведущий программист 1C</td>\n",
              "      <td>106</td>\n",
              "    </tr>\n",
              "    <tr>\n",
              "      <th>26</th>\n",
              "      <td>Технический специалист</td>\n",
              "      <td>104</td>\n",
              "    </tr>\n",
              "    <tr>\n",
              "      <th>27</th>\n",
              "      <td>Технический писатель (дистанционный автор)</td>\n",
              "      <td>99</td>\n",
              "    </tr>\n",
              "    <tr>\n",
              "      <th>28</th>\n",
              "      <td>Сотрудник поддержки поиска Яндекса</td>\n",
              "      <td>99</td>\n",
              "    </tr>\n",
              "    <tr>\n",
              "      <th>29</th>\n",
              "      <td>Ведущий системный администратор</td>\n",
              "      <td>99</td>\n",
              "    </tr>\n",
              "    <tr>\n",
              "      <th>30</th>\n",
              "      <td>Специалист поддержки в Yandex Cloud</td>\n",
              "      <td>97</td>\n",
              "    </tr>\n",
              "    <tr>\n",
              "      <th>31</th>\n",
              "      <td>Ведущий программист 1С</td>\n",
              "      <td>94</td>\n",
              "    </tr>\n",
              "    <tr>\n",
              "      <th>32</th>\n",
              "      <td>Технический директор</td>\n",
              "      <td>94</td>\n",
              "    </tr>\n",
              "    <tr>\n",
              "      <th>33</th>\n",
              "      <td>Ведущий инженер-программист</td>\n",
              "      <td>92</td>\n",
              "    </tr>\n",
              "    <tr>\n",
              "      <th>34</th>\n",
              "      <td>QA Engineer</td>\n",
              "      <td>91</td>\n",
              "    </tr>\n",
              "    <tr>\n",
              "      <th>35</th>\n",
              "      <td>Web-разработчик</td>\n",
              "      <td>88</td>\n",
              "    </tr>\n",
              "    <tr>\n",
              "      <th>36</th>\n",
              "      <td>Помощник системного администратора</td>\n",
              "      <td>86</td>\n",
              "    </tr>\n",
              "    <tr>\n",
              "      <th>37</th>\n",
              "      <td>IOS разработчик</td>\n",
              "      <td>86</td>\n",
              "    </tr>\n",
              "    <tr>\n",
              "      <th>38</th>\n",
              "      <td>Аналитик 1С</td>\n",
              "      <td>85</td>\n",
              "    </tr>\n",
              "    <tr>\n",
              "      <th>39</th>\n",
              "      <td>Программист-разработчик</td>\n",
              "      <td>85</td>\n",
              "    </tr>\n",
              "    <tr>\n",
              "      <th>40</th>\n",
              "      <td>Специалист службы поддержки с техническими зна...</td>\n",
              "      <td>84</td>\n",
              "    </tr>\n",
              "    <tr>\n",
              "      <th>41</th>\n",
              "      <td>Разработчик 1С</td>\n",
              "      <td>83</td>\n",
              "    </tr>\n",
              "    <tr>\n",
              "      <th>42</th>\n",
              "      <td>Компьютерный Мастер</td>\n",
              "      <td>83</td>\n",
              "    </tr>\n",
              "    <tr>\n",
              "      <th>43</th>\n",
              "      <td>Консультант 1С</td>\n",
              "      <td>82</td>\n",
              "    </tr>\n",
              "    <tr>\n",
              "      <th>44</th>\n",
              "      <td>Web-программист</td>\n",
              "      <td>81</td>\n",
              "    </tr>\n",
              "    <tr>\n",
              "      <th>45</th>\n",
              "      <td>Project Manager</td>\n",
              "      <td>81</td>\n",
              "    </tr>\n",
              "    <tr>\n",
              "      <th>46</th>\n",
              "      <td>Ученик компьютерного мастера</td>\n",
              "      <td>79</td>\n",
              "    </tr>\n",
              "    <tr>\n",
              "      <th>47</th>\n",
              "      <td>Аналитик данных</td>\n",
              "      <td>78</td>\n",
              "    </tr>\n",
              "    <tr>\n",
              "      <th>48</th>\n",
              "      <td>Сетевой инженер</td>\n",
              "      <td>78</td>\n",
              "    </tr>\n",
              "    <tr>\n",
              "      <th>49</th>\n",
              "      <td>Инженер</td>\n",
              "      <td>78</td>\n",
              "    </tr>\n",
              "  </tbody>\n",
              "</table>\n",
              "</div>"
            ],
            "text/plain": [
              "                                                 name  count\n",
              "0                             Системный администратор   1761\n",
              "1                                      Программист 1С   1153\n",
              "2                                     Бизнес-аналитик    488\n",
              "3                    Специалист технической поддержки    457\n",
              "4                                  Системный аналитик    432\n",
              "5                                            Аналитик    404\n",
              "6                                 Инженер-программист    389\n",
              "7                                      Программист 1C    360\n",
              "8                                Frontend-разработчик    242\n",
              "9                       Инженер технической поддержки    230\n",
              "10                                        Программист    224\n",
              "11                               Руководитель проекта    191\n",
              "12            Младший специалист ручного тестирования    169\n",
              "13        Специалист службы поддержки в Яндекс Бизнес    168\n",
              "14                                  Менеджер проектов    153\n",
              "15                                   Java-разработчик    150\n",
              "16          Специалист по информационной безопасности    148\n",
              "17  Специалист службы поддержки Рекламной сети Янд...    139\n",
              "18                                    PHP-разработчик    135\n",
              "19          Специалист службы поддержки пользователей    126\n",
              "20                                Компьютерный мастер    123\n",
              "21                                   Менеджер проекта    120\n",
              "22                               Технический писатель    111\n",
              "23                                Маркетолог-аналитик    108\n",
              "24                              Руководитель проектов    106\n",
              "25                             Ведущий программист 1C    106\n",
              "26                             Технический специалист    104\n",
              "27         Технический писатель (дистанционный автор)     99\n",
              "28                 Сотрудник поддержки поиска Яндекса     99\n",
              "29                    Ведущий системный администратор     99\n",
              "30                Специалист поддержки в Yandex Cloud     97\n",
              "31                             Ведущий программист 1С     94\n",
              "32                               Технический директор     94\n",
              "33                        Ведущий инженер-программист     92\n",
              "34                                        QA Engineer     91\n",
              "35                                    Web-разработчик     88\n",
              "36                 Помощник системного администратора     86\n",
              "37                                    IOS разработчик     86\n",
              "38                                        Аналитик 1С     85\n",
              "39                            Программист-разработчик     85\n",
              "40  Специалист службы поддержки с техническими зна...     84\n",
              "41                                     Разработчик 1С     83\n",
              "42                                Компьютерный Мастер     83\n",
              "43                                     Консультант 1С     82\n",
              "44                                    Web-программист     81\n",
              "45                                    Project Manager     81\n",
              "46                       Ученик компьютерного мастера     79\n",
              "47                                    Аналитик данных     78\n",
              "48                                    Сетевой инженер     78\n",
              "49                                            Инженер     78"
            ]
          },
          "execution_count": 103,
          "metadata": {},
          "output_type": "execute_result"
        }
      ],
      "source": [
        "add_query_2 = (\n",
        "                f'''select\n",
        "                    distinct(v.name),\n",
        "                    count(v.name)\n",
        "                    from vacancies as v\n",
        "                    group by 1\n",
        "                    order by 2 desc\n",
        "                    limit 50\n",
        "                    '''\n",
        "                )\n",
        "df_add_2 = pd.read_sql_query(add_query_2, connection);\n",
        "df_add_2"
      ]
    },
    {
      "cell_type": "code",
      "execution_count": 104,
      "id": "a910b5b6",
      "metadata": {},
      "outputs": [
        {
          "name": "stderr",
          "output_type": "stream",
          "text": [
            "C:\\Users\\vivec\\AppData\\Local\\Temp\\ipykernel_10332\\3335318323.py:13: UserWarning: pandas only supports SQLAlchemy connectable (engine/connection) or database string URI or sqlite3 DBAPI2 connection. Other DBAPI2 objects are not tested. Please consider using SQLAlchemy.\n",
            "  df_add_3 = pd.read_sql_query(add_query_3, connection);\n"
          ]
        },
        {
          "data": {
            "text/html": [
              "<div>\n",
              "<style scoped>\n",
              "    .dataframe tbody tr th:only-of-type {\n",
              "        vertical-align: middle;\n",
              "    }\n",
              "\n",
              "    .dataframe tbody tr th {\n",
              "        vertical-align: top;\n",
              "    }\n",
              "\n",
              "    .dataframe thead th {\n",
              "        text-align: right;\n",
              "    }\n",
              "</style>\n",
              "<table border=\"1\" class=\"dataframe\">\n",
              "  <thead>\n",
              "    <tr style=\"text-align: right;\">\n",
              "      <th></th>\n",
              "      <th>name</th>\n",
              "      <th>count</th>\n",
              "    </tr>\n",
              "  </thead>\n",
              "  <tbody>\n",
              "    <tr>\n",
              "      <th>0</th>\n",
              "      <td>Разработка программного обеспечения</td>\n",
              "      <td>12499</td>\n",
              "    </tr>\n",
              "    <tr>\n",
              "      <th>1</th>\n",
              "      <td>Системная интеграция,  автоматизации технологи...</td>\n",
              "      <td>11034</td>\n",
              "    </tr>\n",
              "    <tr>\n",
              "      <th>2</th>\n",
              "      <td>Интернет-компания (поисковики, платежные систе...</td>\n",
              "      <td>6413</td>\n",
              "    </tr>\n",
              "    <tr>\n",
              "      <th>3</th>\n",
              "      <td>Банк</td>\n",
              "      <td>2742</td>\n",
              "    </tr>\n",
              "    <tr>\n",
              "      <th>4</th>\n",
              "      <td>Мобильная связь</td>\n",
              "      <td>1585</td>\n",
              "    </tr>\n",
              "    <tr>\n",
              "      <th>5</th>\n",
              "      <td>Кадровые агентства</td>\n",
              "      <td>1143</td>\n",
              "    </tr>\n",
              "    <tr>\n",
              "      <th>6</th>\n",
              "      <td>Консалтинговые услуги</td>\n",
              "      <td>1137</td>\n",
              "    </tr>\n",
              "    <tr>\n",
              "      <th>7</th>\n",
              "      <td>Интернет-провайдер</td>\n",
              "      <td>1095</td>\n",
              "    </tr>\n",
              "    <tr>\n",
              "      <th>8</th>\n",
              "      <td>Розничная сеть (продуктовая)</td>\n",
              "      <td>1034</td>\n",
              "    </tr>\n",
              "    <tr>\n",
              "      <th>9</th>\n",
              "      <td>Фиксированная связь</td>\n",
              "      <td>1028</td>\n",
              "    </tr>\n",
              "  </tbody>\n",
              "</table>\n",
              "</div>"
            ],
            "text/plain": [
              "                                                name  count\n",
              "0                Разработка программного обеспечения  12499\n",
              "1  Системная интеграция,  автоматизации технологи...  11034\n",
              "2  Интернет-компания (поисковики, платежные систе...   6413\n",
              "3                                               Банк   2742\n",
              "4                                    Мобильная связь   1585\n",
              "5                                 Кадровые агентства   1143\n",
              "6                              Консалтинговые услуги   1137\n",
              "7                                 Интернет-провайдер   1095\n",
              "8                       Розничная сеть (продуктовая)   1034\n",
              "9                                Фиксированная связь   1028"
            ]
          },
          "execution_count": 104,
          "metadata": {},
          "output_type": "execute_result"
        }
      ],
      "source": [
        "add_query_3 = (\n",
        "                f'''select \n",
        "                        i.name,\n",
        "                        count(v.id)\n",
        "                    from vacancies as v\n",
        "                        join employers_industries as ei on v.employer_id = ei.employer_id\n",
        "                        join industries as i on i.id = ei.industry_id\n",
        "                        group by 1\n",
        "                        order by 2 desc\n",
        "                        limit 10\n",
        "                        '''\n",
        "                        )\n",
        "df_add_3 = pd.read_sql_query(add_query_3, connection);\n",
        "df_add_3"
      ]
    },
    {
      "attachments": {},
      "cell_type": "markdown",
      "id": "00d6098d",
      "metadata": {},
      "source": [
        "### В дополнительном иследованнии получил данные о регионе/ работадателе/ вакансии DS/ среднюю ЗП/ количеству вакансий, при условии, что хотя бы один порог ЗП был указан, а так же получил таблицу по поиску специалистов в области данных и количества вакансий по специальностям. Как видно по таблице большее количество вакансий в России, самую крупную ЗП предлагают в МСК и составляет она 450.000. Как видно вакансий в области данных 1771, вакансий в области DS 483, полностью заполненых вакансий DS 61 , что говорит о потребности специалистов в этой области, но и так же говорит о большой потребности и в других областях IT. Составил таблицу рейтинг по количеству разных вакансий, большую часть топа заняли именно сферы IT. Такая большая потребность специалистов говорит о том, что IT технологии по России развиваются и вакансий будет всё больше, из-за чего возможно повысят минимальной и максимальный порог ЗП."
      ]
    },
    {
      "cell_type": "code",
      "execution_count": 105,
      "id": "596f7c9a",
      "metadata": {},
      "outputs": [],
      "source": [
        "# не забываем закрыть соединение после окончания работы\n",
        "connection.close()"
      ]
    }
  ],
  "metadata": {
    "colab": {
      "collapsed_sections": [
        "8d62a9f3-f64e-4fe7-bdac-c4dffa16155e"
      ],
      "provenance": []
    },
    "kernelspec": {
      "display_name": "Python 3",
      "language": "python",
      "name": "python3"
    },
    "language_info": {
      "codemirror_mode": {
        "name": "ipython",
        "version": 3
      },
      "file_extension": ".py",
      "mimetype": "text/x-python",
      "name": "python",
      "nbconvert_exporter": "python",
      "pygments_lexer": "ipython3",
      "version": "3.9.10"
    },
    "vscode": {
      "interpreter": {
        "hash": "529ff956a86b7e5f2b63a7bd27d154e179b6397e70065b21cf54923da0b3a4bf"
      }
    }
  },
  "nbformat": 4,
  "nbformat_minor": 5
}
